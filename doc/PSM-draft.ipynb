{
 "cells": [
  {
   "cell_type": "markdown",
   "metadata": {},
   "source": [
    "Propensity Score Matching(Full matching) - Linear Propensity Score"
   ]
  },
  {
   "cell_type": "markdown",
   "metadata": {},
   "source": [
    "1. Data Processing"
   ]
  },
  {
   "cell_type": "code",
   "execution_count": 1,
   "metadata": {},
   "outputs": [],
   "source": [
    "import numpy as np\n",
    "import pandas as pd\n",
    "import time\n",
    "from sklearn.linear_model import LogisticRegression\n",
    "from sklearn.model_selection import train_test_split\n",
    "from sklearn.preprocessing import StandardScaler"
   ]
  },
  {
   "cell_type": "code",
   "execution_count": 2,
   "metadata": {},
   "outputs": [],
   "source": [
    "low_dim = pd.read_csv('..\\data\\lowDim_dataset.csv')\n",
    "high_dim = pd.read_csv('..\\data\\highDim_dataset.csv')"
   ]
  },
  {
   "cell_type": "code",
   "execution_count": 3,
   "metadata": {},
   "outputs": [],
   "source": [
    "X_high = high_dim.drop(['A','Y'], axis = 1)\n",
    "X_low = low_dim.drop(['A','Y'], axis = 1)\n",
    "\n",
    "y_high = high_dim[['A']]\n",
    "y_low = low_dim[['A']]"
   ]
  },
  {
   "cell_type": "markdown",
   "metadata": {},
   "source": [
    "2. Choosing the best parameter to calculate propensity score"
   ]
  },
  {
   "cell_type": "code",
   "execution_count": 4,
   "metadata": {},
   "outputs": [],
   "source": [
    "def best_para(data, C):\n",
    "    X=data.drop(['A','Y'], axis = 1)\n",
    "    y=data[['A']]\n",
    "    diff=[]\n",
    "    for c in C:\n",
    "        clf = LogisticRegression(penalty='l1', C = c, solver = 'liblinear')\n",
    "        clf.fit(X, y.values.ravel())\n",
    "        ps_logit=clf.predict_log_proba(X)[:, 1]\n",
    "        data['log_ps']=ps_logit\n",
    "        treated=data[data['A']==1]\n",
    "        control=data[data['A']==0]\n",
    "        di=max(treated['log_ps'])-min(treated['log_ps'])\n",
    "        dj=max(control['log_ps'])-min(control['log_ps'])\n",
    "        diff.append(abs(di-dj))\n",
    "    best_ind=diff.index(min(diff))\n",
    "    best_c=C[best_ind]\n",
    "    best_diff=diff[best_ind]\n",
    "    return best_c, best_diff"
   ]
  },
  {
   "cell_type": "markdown",
   "metadata": {},
   "source": [
    "3. Propensity score matching model"
   ]
  },
  {
   "cell_type": "code",
   "execution_count": 5,
   "metadata": {},
   "outputs": [],
   "source": [
    "def PSM(treated_df, control_df):\n",
    "    \n",
    "    treated_df.loc[:,'group']=None\n",
    "    treated_df.loc[:,'control_Y']=None\n",
    "    \n",
    "    for i in range(len(treated_df)):\n",
    "        diff_i=[]\n",
    "        for j in range(len(control_df)):\n",
    "            diff_i.append(abs(control_df.loc[j,'log_ps']-treated_df.loc[i,'log_ps']))\n",
    "\n",
    "        ind_j=diff_i.index(min(diff_i))\n",
    "        r=(max(diff_i)-min(diff_i))/5\n",
    "        treated_df.loc[i,'control_Y']=control_df.loc[ind_j,'Y']\n",
    "        if min(diff_i)<r:\n",
    "            treated_df.loc[i,'group']=1\n",
    "        elif min(diff_i)>=r and min(diff_i)<r*2:\n",
    "            treated_df.loc[i,'group']=2\n",
    "        elif min(diff_i)>=r*2 and min(diff_i)<r*3:\n",
    "            treated_df.loc[i,'group']=3\n",
    "        elif min(diff_i)>=r*3 and min(diff_i)<r*4:\n",
    "            treated_df.loc[i,'group']=4\n",
    "        else:\n",
    "            treated_df.loc[i,'group']=5\n",
    "    \n",
    "    ATE=0\n",
    "    for k in range(treated_df.loc[:,'group'].max()):\n",
    "        group=treated_df[treated_df.loc[:,'group']==k+1]\n",
    "        ATE=ATE+(group.loc[:,'Y']-group.loc[:,'control_Y']).mean()*len(group)/len(treated_df)\n",
    "    \n",
    "    return ATE"
   ]
  },
  {
   "cell_type": "markdown",
   "metadata": {},
   "source": [
    "4. Performance on Low Dimension Data"
   ]
  },
  {
   "cell_type": "code",
   "execution_count": 6,
   "metadata": {},
   "outputs": [],
   "source": [
    "start_low = time.time()\n",
    "clf_low = LogisticRegression(penalty='l1', C = 0.2, solver = 'liblinear')\n",
    "clf_low.fit(X_low, y_low.values.ravel())\n",
    "ps_logit_low = clf_low.predict_log_proba(X_low)[:, 1]\n",
    "low_dim['log_ps']=ps_logit_low"
   ]
  },
  {
   "cell_type": "code",
   "execution_count": 7,
   "metadata": {},
   "outputs": [
    {
     "data": {
      "text/plain": [
       "2.5058765993180043"
      ]
     },
     "execution_count": 7,
     "metadata": {},
     "output_type": "execute_result"
    }
   ],
   "source": [
    "treated_low = low_dim[low_dim['A']==1]\n",
    "treated_low = treated_low.reset_index(drop = True)\n",
    "control_low = low_dim[low_dim['A']==0]\n",
    "control_low = control_low.reset_index(drop = True)\n",
    "\n",
    "PSM(treated_low, control_low)"
   ]
  },
  {
   "cell_type": "code",
   "execution_count": 8,
   "metadata": {},
   "outputs": [
    {
     "data": {
      "text/plain": [
       "0.8238942623138428"
      ]
     },
     "execution_count": 8,
     "metadata": {},
     "output_type": "execute_result"
    }
   ],
   "source": [
    "time.time()-start_low"
   ]
  },
  {
   "cell_type": "markdown",
   "metadata": {},
   "source": [
    "5. Performance on High Dimension Data"
   ]
  },
  {
   "cell_type": "code",
   "execution_count": 9,
   "metadata": {},
   "outputs": [],
   "source": [
    "start_high = time.time()\n",
    "clf_high = LogisticRegression(penalty='l1', C = 0.5, solver = 'liblinear')\n",
    "clf_high.fit(X_high, y_high.values.ravel())\n",
    "ps_logit_high = clf_high.predict_log_proba(X_high)[:, 1]\n",
    "high_dim['log_ps']=ps_logit_high"
   ]
  },
  {
   "cell_type": "code",
   "execution_count": 10,
   "metadata": {},
   "outputs": [
    {
     "data": {
      "text/plain": [
       "-2.932560148763459"
      ]
     },
     "execution_count": 10,
     "metadata": {},
     "output_type": "execute_result"
    }
   ],
   "source": [
    "treated_high = high_dim[high_dim['A']==1]\n",
    "treated_high = treated_high.reset_index(drop = True)\n",
    "control_high = high_dim[high_dim['A']==0]\n",
    "control_high = control_high.reset_index(drop = True)\n",
    "\n",
    "PSM(treated_high, control_high)"
   ]
  },
  {
   "cell_type": "code",
   "execution_count": 11,
   "metadata": {},
   "outputs": [
    {
     "data": {
      "text/plain": [
       "24.316996812820435"
      ]
     },
     "execution_count": 11,
     "metadata": {},
     "output_type": "execute_result"
    }
   ],
   "source": [
    "time.time()-start_high"
   ]
  },
  {
   "cell_type": "code",
   "execution_count": null,
   "metadata": {},
   "outputs": [],
   "source": []
  }
 ],
 "metadata": {
  "kernelspec": {
   "display_name": "Python 3",
   "language": "python",
   "name": "python3"
  },
  "language_info": {
   "codemirror_mode": {
    "name": "ipython",
    "version": 3
   },
   "file_extension": ".py",
   "mimetype": "text/x-python",
   "name": "python",
   "nbconvert_exporter": "python",
   "pygments_lexer": "ipython3",
   "version": "3.8.5"
  }
 },
 "nbformat": 4,
 "nbformat_minor": 4
}

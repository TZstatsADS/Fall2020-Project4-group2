{
 "cells": [
  {
   "cell_type": "markdown",
   "metadata": {},
   "source": [
    "# GR5241 Project4 \n",
    "##  L1 penalized logistic regression + Doubly Robust Estimation "
   ]
  },
  {
   "cell_type": "code",
   "execution_count": 1,
   "metadata": {},
   "outputs": [],
   "source": [
    "import numpy as np\n",
    "import pandas as pd\n",
    "import statsmodels.api as sm\n",
    "import time\n",
    "from sklearn.linear_model import LogisticRegression\n",
    "from sklearn.model_selection import train_test_split\n",
    "from sklearn.preprocessing import StandardScaler\n",
    "from sklearn.linear_model import LinearRegression\n"
   ]
  },
  {
   "cell_type": "markdown",
   "metadata": {},
   "source": [
    "###  Low Dimensional data\n",
    "#### Data processing \n",
    "#### 1.1 Create X and Y variables for L1 Logistic Regression "
   ]
  },
  {
   "cell_type": "code",
   "execution_count": 2,
   "metadata": {},
   "outputs": [],
   "source": [
    "lowDim = pd.read_csv(r'../data/lowDim_dataset.csv')\n",
    "X_low = lowDim.drop(['A','Y'], axis = 1)  \n",
    "y_low = lowDim[['A']]"
   ]
  },
  {
   "cell_type": "markdown",
   "metadata": {},
   "source": [
    "#### 1.2 Split data into training and testing sets"
   ]
  },
  {
   "cell_type": "code",
   "execution_count": 3,
   "metadata": {},
   "outputs": [],
   "source": [
    "X_train_low, X_test_low, y_train_low, y_test_low = train_test_split(X_low, y_low, test_size=0.25, random_state=0)"
   ]
  },
  {
   "cell_type": "markdown",
   "metadata": {},
   "source": [
    "#### 1.3 Standardize features\n",
    "- Because the regularization penalty is comprised of the sum of the absolute value of the coefficients, we need to scale the data so the coefficients are all based on the same scale."
   ]
  },
  {
   "cell_type": "code",
   "execution_count": 4,
   "metadata": {},
   "outputs": [],
   "source": [
    "# Create a scaler object\n",
    "sc = StandardScaler()\n",
    "X_train_low_std = sc.fit_transform(X_train_low)\n",
    "X_test_low_std = sc.transform(X_test_low)"
   ]
  },
  {
   "cell_type": "markdown",
   "metadata": {},
   "source": [
    "#### 2. L1 penalized logistic regression \n",
    "#### 2.1 Parameter tunning "
   ]
  },
  {
   "cell_type": "code",
   "execution_count": 5,
   "metadata": {},
   "outputs": [
    {
     "name": "stdout",
     "output_type": "stream",
     "text": [
      "C: 1\n",
      "Coefficient of each feature: [[ 0.34419367  0.43238251  0.73102716 -0.15445403  0.          0.13306032\n",
      "   0.          0.26229326  0.          0.33354899 -0.0579125   0.\n",
      "   0.04015877 -0.50944388  0.14782478  0.          0.24494353  0.10429014\n",
      "   0.          0.          0.00275068  0.41842302]]\n",
      "Training accuracy: 0.7837078651685393\n",
      "Test accuracy: 0.7226890756302521\n",
      "\n",
      "C: 0.95\n",
      "Coefficient of each feature: [[ 3.41394331e-01  4.19164596e-01  7.21203160e-01 -1.47436611e-01\n",
      "   0.00000000e+00  1.30737853e-01  0.00000000e+00  2.60321521e-01\n",
      "   0.00000000e+00  3.21937086e-01 -4.60120791e-02  0.00000000e+00\n",
      "   3.64427152e-02 -5.04450999e-01  1.46549264e-01  0.00000000e+00\n",
      "   2.44899467e-01  1.03654487e-01  0.00000000e+00  0.00000000e+00\n",
      "   2.75226924e-04  4.16449548e-01]]\n",
      "Training accuracy: 0.7837078651685393\n",
      "Test accuracy: 0.7142857142857143\n",
      "\n",
      "C: 0.9\n",
      "Coefficient of each feature: [[ 0.33881124  0.40536357  0.710973   -0.13966154  0.          0.12831076\n",
      "   0.          0.25802403  0.          0.30950485 -0.03259145  0.\n",
      "   0.0325736  -0.49920694  0.1454971   0.          0.24499852  0.10311769\n",
      "   0.          0.          0.          0.41449432]]\n",
      "Training accuracy: 0.7837078651685393\n",
      "Test accuracy: 0.7226890756302521\n",
      "\n",
      "C: 0.85\n",
      "Coefficient of each feature: [[ 0.3359445   0.39000054  0.69979816 -0.13118088  0.          0.12565543\n",
      "   0.          0.25544569  0.          0.29562274 -0.01756336  0.\n",
      "   0.02825947 -0.4934795   0.14434147  0.          0.24512695  0.10253804\n",
      "   0.          0.          0.          0.4122485 ]]\n",
      "Training accuracy: 0.7837078651685393\n",
      "Test accuracy: 0.7142857142857143\n",
      "\n",
      "C: 0.8\n",
      "Coefficient of each feature: [[ 3.32706708e-01  3.72666018e-01  6.87527309e-01 -1.21973538e-01\n",
      "   0.00000000e+00  1.22676749e-01  0.00000000e+00  2.52476736e-01\n",
      "   0.00000000e+00  2.79881924e-01 -6.62033344e-04  0.00000000e+00\n",
      "   2.33917155e-02 -4.87191398e-01  1.42975705e-01  0.00000000e+00\n",
      "   2.45258898e-01  1.01863777e-01  0.00000000e+00  0.00000000e+00\n",
      "   0.00000000e+00  4.09619457e-01]]\n",
      "Training accuracy: 0.7837078651685393\n",
      "Test accuracy: 0.7142857142857143\n",
      "\n",
      "C: 0.75\n",
      "Coefficient of each feature: [[ 0.32962358  0.35548859  0.67249462 -0.11095296  0.          0.11915652\n",
      "   0.          0.24921983  0.          0.2617699   0.          0.\n",
      "   0.01788389 -0.47648083  0.14151253  0.          0.24546268  0.10099029\n",
      "   0.          0.          0.          0.40768679]]\n",
      "Training accuracy: 0.7837078651685393\n",
      "Test accuracy: 0.7142857142857143\n",
      "\n",
      "C: 0.7\n",
      "Coefficient of each feature: [[ 0.32609161  0.33593257  0.65561729 -0.09880978  0.          0.11504993\n",
      "   0.          0.2454908   0.          0.24084591  0.          0.\n",
      "   0.01162058 -0.46433433  0.13984284  0.          0.24569365  0.09994348\n",
      "   0.          0.          0.          0.40575491]]\n",
      "Training accuracy: 0.7808988764044944\n",
      "Test accuracy: 0.7142857142857143\n",
      "\n",
      "C: 0.65\n",
      "Coefficient of each feature: [[ 0.32206401  0.31343325  0.63661497 -0.08536137  0.          0.11043813\n",
      "   0.          0.24120019  0.          0.21650018  0.          0.\n",
      "   0.0044388  -0.4506722   0.13790229  0.          0.24597552  0.0987406\n",
      "   0.          0.          0.          0.40340272]]\n",
      "Training accuracy: 0.7808988764044944\n",
      "Test accuracy: 0.7226890756302521\n",
      "\n",
      "C: 0.5\n",
      "Coefficient of each feature: [[ 0.30411937  0.21972855  0.55673928 -0.03585458  0.          0.09328532\n",
      "   0.          0.2226778   0.          0.11090756  0.          0.\n",
      "   0.         -0.3941163   0.13047093  0.          0.24573446  0.09409338\n",
      "   0.          0.          0.          0.39401235]]\n",
      "Training accuracy: 0.7837078651685393\n",
      "Test accuracy: 0.7226890756302521\n",
      "\n",
      "C: 0.3\n",
      "Coefficient of each feature: [[ 0.26161797  0.          0.37023082  0.          0.          0.04792086\n",
      "   0.          0.17005662  0.          0.          0.          0.\n",
      "   0.         -0.25393774  0.11283954  0.          0.23801075  0.07946065\n",
      "   0.          0.         -0.00254375  0.36647894]]\n",
      "Training accuracy: 0.7837078651685393\n",
      "Test accuracy: 0.7394957983193278\n",
      "\n",
      "C: 0.2\n",
      "Coefficient of each feature: [[ 0.20430604  0.          0.17063776  0.          0.          0.\n",
      "   0.          0.11363676  0.          0.          0.          0.\n",
      "   0.         -0.12348155  0.09258217  0.          0.22296248  0.05639205\n",
      "   0.          0.         -0.01557123  0.32969147]]\n",
      "Training accuracy: 0.7837078651685393\n",
      "Test accuracy: 0.7394957983193278\n",
      "\n",
      "C: 0.1\n",
      "Coefficient of each feature: [[ 0.0078065   0.          0.          0.          0.          0.\n",
      "   0.          0.          0.          0.          0.          0.\n",
      "   0.          0.          0.03724226  0.          0.17918742  0.\n",
      "   0.          0.         -0.03739081  0.19610661]]\n",
      "Training accuracy: 0.7696629213483146\n",
      "Test accuracy: 0.7478991596638656\n",
      "\n"
     ]
    },
    {
     "name": "stderr",
     "output_type": "stream",
     "text": [
      "/Library/Frameworks/Python.framework/Versions/3.8/lib/python3.8/site-packages/sklearn/utils/validation.py:72: DataConversionWarning: A column-vector y was passed when a 1d array was expected. Please change the shape of y to (n_samples, ), for example using ravel().\n",
      "  return f(**kwargs)\n",
      "/Library/Frameworks/Python.framework/Versions/3.8/lib/python3.8/site-packages/sklearn/utils/validation.py:72: DataConversionWarning: A column-vector y was passed when a 1d array was expected. Please change the shape of y to (n_samples, ), for example using ravel().\n",
      "  return f(**kwargs)\n",
      "/Library/Frameworks/Python.framework/Versions/3.8/lib/python3.8/site-packages/sklearn/utils/validation.py:72: DataConversionWarning: A column-vector y was passed when a 1d array was expected. Please change the shape of y to (n_samples, ), for example using ravel().\n",
      "  return f(**kwargs)\n",
      "/Library/Frameworks/Python.framework/Versions/3.8/lib/python3.8/site-packages/sklearn/utils/validation.py:72: DataConversionWarning: A column-vector y was passed when a 1d array was expected. Please change the shape of y to (n_samples, ), for example using ravel().\n",
      "  return f(**kwargs)\n",
      "/Library/Frameworks/Python.framework/Versions/3.8/lib/python3.8/site-packages/sklearn/utils/validation.py:72: DataConversionWarning: A column-vector y was passed when a 1d array was expected. Please change the shape of y to (n_samples, ), for example using ravel().\n",
      "  return f(**kwargs)\n",
      "/Library/Frameworks/Python.framework/Versions/3.8/lib/python3.8/site-packages/sklearn/utils/validation.py:72: DataConversionWarning: A column-vector y was passed when a 1d array was expected. Please change the shape of y to (n_samples, ), for example using ravel().\n",
      "  return f(**kwargs)\n",
      "/Library/Frameworks/Python.framework/Versions/3.8/lib/python3.8/site-packages/sklearn/utils/validation.py:72: DataConversionWarning: A column-vector y was passed when a 1d array was expected. Please change the shape of y to (n_samples, ), for example using ravel().\n",
      "  return f(**kwargs)\n",
      "/Library/Frameworks/Python.framework/Versions/3.8/lib/python3.8/site-packages/sklearn/utils/validation.py:72: DataConversionWarning: A column-vector y was passed when a 1d array was expected. Please change the shape of y to (n_samples, ), for example using ravel().\n",
      "  return f(**kwargs)\n",
      "/Library/Frameworks/Python.framework/Versions/3.8/lib/python3.8/site-packages/sklearn/utils/validation.py:72: DataConversionWarning: A column-vector y was passed when a 1d array was expected. Please change the shape of y to (n_samples, ), for example using ravel().\n",
      "  return f(**kwargs)\n",
      "/Library/Frameworks/Python.framework/Versions/3.8/lib/python3.8/site-packages/sklearn/utils/validation.py:72: DataConversionWarning: A column-vector y was passed when a 1d array was expected. Please change the shape of y to (n_samples, ), for example using ravel().\n",
      "  return f(**kwargs)\n",
      "/Library/Frameworks/Python.framework/Versions/3.8/lib/python3.8/site-packages/sklearn/utils/validation.py:72: DataConversionWarning: A column-vector y was passed when a 1d array was expected. Please change the shape of y to (n_samples, ), for example using ravel().\n",
      "  return f(**kwargs)\n",
      "/Library/Frameworks/Python.framework/Versions/3.8/lib/python3.8/site-packages/sklearn/utils/validation.py:72: DataConversionWarning: A column-vector y was passed when a 1d array was expected. Please change the shape of y to (n_samples, ), for example using ravel().\n",
      "  return f(**kwargs)\n"
     ]
    }
   ],
   "source": [
    "C = [1, 0.95, 0.9, 0.85, 0.8, 0.75, 0.7, 0.65, 0.5, 0.3, 0.2, 0.1]\n",
    "for c in C:\n",
    "    clf = LogisticRegression(penalty='l1', C = c, solver = 'liblinear')\n",
    "    clf.fit(X_train_low, y_train_low)\n",
    "    print('C:', c)\n",
    "    print('Coefficient of each feature:', clf.coef_)\n",
    "    print('Training accuracy:', clf.score(X_train_low_std, y_train_low))\n",
    "    print('Test accuracy:', clf.score(X_test_low_std, y_test_low))\n",
    "    print('')   "
   ]
  },
  {
   "cell_type": "code",
   "execution_count": 37,
   "metadata": {},
   "outputs": [],
   "source": [
    "start_time_l1_low = time.time()\n",
    "# Best: C = 1\n",
    "clf_low = LogisticRegression(penalty='l1', C = 1, solver = 'liblinear')"
   ]
  },
  {
   "cell_type": "markdown",
   "metadata": {},
   "source": [
    "#### 2.2 Calculate propensity scores"
   ]
  },
  {
   "cell_type": "code",
   "execution_count": 7,
   "metadata": {},
   "outputs": [],
   "source": [
    "clf_low.fit(X_low, y_low.values.ravel())\n",
    "ps_low=clf_low.predict_proba(X_low)[:, 1]"
   ]
  },
  {
   "cell_type": "markdown",
   "metadata": {},
   "source": [
    "#### 3. Doubly Robust Estimation for ATE"
   ]
  },
  {
   "cell_type": "code",
   "execution_count": 8,
   "metadata": {},
   "outputs": [],
   "source": [
    "full_low_dim = lowDim.copy()\n",
    "full_low_dim['PS']=pd.Series(ps_low, index=full_low_dim.index)"
   ]
  },
  {
   "cell_type": "code",
   "execution_count": 9,
   "metadata": {},
   "outputs": [],
   "source": [
    "# deviding the low dimensional data into treated and control groups\n",
    "\n",
    "lowDim_treated = lowDim[lowDim['A'] == 1]\n",
    "lowDim_treated = lowDim_treated.reset_index(drop = True)\n",
    "\n",
    "lowDim_control = lowDim[lowDim['A'] == 0]\n",
    "lowDim_control = lowDim_control.reset_index(drop = True)\n",
    "\n",
    "#Fit a regression model to get the estimation of y given T=1 and X \n",
    "X1_low_treated = lowDim_treated.drop(['Y'], axis = 1)\n",
    "y_low_treated = lowDim_treated['Y']\n",
    "lr_low_treated = LinearRegression().fit(X1_low_treated, y_low_treated)\n",
    "\n",
    "# Fit a regression model to get the estimation of y given T=0and X \n",
    "X1_low_control = lowDim_control.drop(['Y'], axis = 1)\n",
    "y_low_control = lowDim_control['Y']\n",
    "lr_low_control = LinearRegression().fit(X1_low_control, y_low_control)"
   ]
  },
  {
   "cell_type": "code",
   "execution_count": 10,
   "metadata": {},
   "outputs": [],
   "source": [
    "# Select all covariates and 'A' columns from full dataset\n",
    "X_low_new = full_low_dim.drop(['Y','PS'], axis = 1)\n",
    "m1_low= lr_low_treated.predict(X_low_new)\n",
    "m0_low= lr_low_control.predict(X_low_new)\n",
    "# join m1 and m0 to full_low_dim\n",
    "full_low_dim['m1'] = pd.Series(m1_low, index = full_low_dim.index)\n",
    "full_low_dim['m0'] = pd.Series(m0_low, index = full_low_dim.index)"
   ]
  },
  {
   "cell_type": "code",
   "execution_count": 29,
   "metadata": {},
   "outputs": [],
   "source": [
    "def DRE(full_data):\n",
    "    \n",
    "    n = len(full_data.index)\n",
    "    result1 = 0\n",
    "    result2 = 0\n",
    "    \n",
    "    for i in range(n):\n",
    "        result1 = result1 + (full_data['A'][i] * full_data['Y'][i] - (full_data['A'][i] - full_data['PS'][i])*full_data['m1'][i])/full_data['PS'][i]\n",
    "        result2 = result2 + ((1-full_data['A'][i])* full_data['Y'][i] - (full_data['A'][i] - full_data['PS'][i])*full_data['m0'][i])/(1-full_data['PS'][i])\n",
    "        \n",
    "    ETA = 1/n*(result1-result2)\n",
    "    \n",
    "    return ETA"
   ]
  },
  {
   "cell_type": "code",
   "execution_count": 34,
   "metadata": {},
   "outputs": [
    {
     "data": {
      "text/plain": [
       "2.404204395264653"
      ]
     },
     "execution_count": 34,
     "metadata": {},
     "output_type": "execute_result"
    }
   ],
   "source": [
    "start_time_dre_low = time.time()\n",
    "DRE(full_low_dim)"
   ]
  },
  {
   "cell_type": "code",
   "execution_count": 46,
   "metadata": {},
   "outputs": [
    {
     "name": "stdout",
     "output_type": "stream",
     "text": [
      "The estimated ATE for low dimensional data is: 2.404204395264653\n",
      "Accuracy of ATE estimation of low dimensional data is: 3.8318241894138794\n",
      "Running time of L1 Logist Regression model on low dimensional data is: 385.05313205718994 s\n",
      "Running time of DRE model on low dimensional data is: 408.0132300853729 s\n"
     ]
    }
   ],
   "source": [
    "print(f'The estimated ATE for low dimensional data is: {DRE(full_low_dim)}')\n",
    "low_acc = abs(DRE(full_low_dim) - 2.5)/2.5 * 100\n",
    "print(f'Accuracy of ATE estimation of low dimensional data is: {low_acc}')\n",
    "l1_time_low = time.time() - start_time_l1_low \n",
    "print(f'Running time of L1 Logist Regression model on low dimensional data is: {l1_time_low} s')\n",
    "dre_time_low = time.time() - start_time_dre_low\n",
    "print(f'Running time of DRE model on low dimensional data is: {dre_time_low} s')\n"
   ]
  },
  {
   "cell_type": "markdown",
   "metadata": {},
   "source": [
    "###  High Dimensional data\n",
    "#### 1. Data processing \n",
    "#### 1.1 Create X and Y variables for L1 Logistic Regression \n"
   ]
  },
  {
   "cell_type": "code",
   "execution_count": 16,
   "metadata": {},
   "outputs": [],
   "source": [
    "highDim = pd.read_csv(r'../data/highDim_dataset.csv')\n",
    "X_high = highDim.drop(['A','Y'], axis = 1)\n",
    "y_high = highDim[['A']]\n"
   ]
  },
  {
   "cell_type": "markdown",
   "metadata": {},
   "source": [
    "#### 1.2 Split data into training and testing sets"
   ]
  },
  {
   "cell_type": "code",
   "execution_count": 17,
   "metadata": {},
   "outputs": [],
   "source": [
    "X_train_high, X_test_high, y_train_high, y_test_high = train_test_split(X_high, y_high, test_size=0.25, random_state=0)"
   ]
  },
  {
   "cell_type": "markdown",
   "metadata": {},
   "source": [
    "#### 1.3 Standardize features"
   ]
  },
  {
   "cell_type": "code",
   "execution_count": 18,
   "metadata": {},
   "outputs": [],
   "source": [
    "X_train_high_std = sc.fit_transform(X_train_high)\n",
    "X_test_high_std = sc.transform(X_test_high)"
   ]
  },
  {
   "cell_type": "markdown",
   "metadata": {},
   "source": [
    "#### 2. L1 penalized logistic regression \n",
    "#### 2.1 Parameter tunning "
   ]
  },
  {
   "cell_type": "code",
   "execution_count": 54,
   "metadata": {},
   "outputs": [
    {
     "name": "stderr",
     "output_type": "stream",
     "text": [
      "/Library/Frameworks/Python.framework/Versions/3.8/lib/python3.8/site-packages/sklearn/utils/validation.py:72: DataConversionWarning: A column-vector y was passed when a 1d array was expected. Please change the shape of y to (n_samples, ), for example using ravel().\n",
      "  return f(**kwargs)\n"
     ]
    },
    {
     "name": "stdout",
     "output_type": "stream",
     "text": [
      "C: 0.06\n",
      "Coefficient of each feature: [[ 0.00000000e+00  0.00000000e+00  1.59166918e-02  7.23985853e-03\n",
      "   1.62634659e-02 -2.35102332e-02  1.71913233e-03  0.00000000e+00\n",
      "   0.00000000e+00 -2.97422041e-02 -2.15419306e-02  2.76391478e-03\n",
      "   6.23530049e-03  6.25793290e-03  7.34008963e-03 -2.82868384e-03\n",
      "  -9.57286623e-05  0.00000000e+00  5.51828762e-03  0.00000000e+00\n",
      "   0.00000000e+00  0.00000000e+00  0.00000000e+00  0.00000000e+00\n",
      "   0.00000000e+00 -3.42339806e-02  0.00000000e+00  1.16418160e-02\n",
      "   8.36849268e-04  0.00000000e+00  3.48584623e-04 -5.16455860e-03\n",
      "   1.51980949e-05  0.00000000e+00  1.18314250e-02  9.94941463e-03\n",
      "  -6.77703719e-04 -1.10475319e-03  0.00000000e+00  3.55811321e-05\n",
      "  -8.63962786e-03  2.31466691e-02 -3.54103493e-02  5.11208779e-02\n",
      "   5.34635885e-02  0.00000000e+00  0.00000000e+00 -1.74477818e-02\n",
      "   0.00000000e+00  1.61338939e-02 -5.36136279e-03  0.00000000e+00\n",
      "   0.00000000e+00  0.00000000e+00 -2.42570001e-03  0.00000000e+00\n",
      "  -1.40454097e-03 -6.12501746e-02  0.00000000e+00  2.58116528e-02\n",
      "  -1.03958905e-02  2.63326586e-03  4.88583989e-03  1.77328977e-03\n",
      "   0.00000000e+00 -3.57407585e-03  1.48976836e-03  4.07150084e-03\n",
      "   0.00000000e+00 -9.48872374e-03  2.15478806e-03 -7.67460223e-03\n",
      "   9.14995018e-04 -1.36731613e-03  3.49444077e-03  6.64848901e-04\n",
      "  -3.97620874e-03  6.26083669e-03  0.00000000e+00  0.00000000e+00\n",
      "   5.36901514e-03  0.00000000e+00  1.48296150e-02  0.00000000e+00\n",
      "  -1.47438603e-02  0.00000000e+00 -2.19418861e-02  4.75819387e-02\n",
      "   0.00000000e+00  0.00000000e+00 -1.22766879e-02 -1.96418153e-02\n",
      "   0.00000000e+00  0.00000000e+00 -1.30578633e-01  8.79332044e-03\n",
      "  -2.55025693e-02  0.00000000e+00  6.78217695e-03 -7.62835743e-03\n",
      "  -5.28187234e-03 -4.30167174e-03  8.63561546e-03  0.00000000e+00\n",
      "   2.09788717e-02 -1.21847346e-02  0.00000000e+00  0.00000000e+00\n",
      "   0.00000000e+00  0.00000000e+00  0.00000000e+00  0.00000000e+00\n",
      "   1.81495287e-03 -5.02034426e-04  1.60482322e-03 -5.53000672e-03\n",
      "   1.46967319e-03  4.75666310e-03  3.47551546e-03  3.28568608e-04\n",
      "   7.22653257e-03  7.90486039e-03 -3.60743815e-03  2.30899549e-03\n",
      "   4.92519122e-03 -1.40410259e-03  1.46572267e-02 -6.38910329e-03\n",
      "   0.00000000e+00  1.70909340e-02 -7.06363117e-03 -3.06103163e-03\n",
      "  -1.07990313e-02  1.00566852e-02 -2.75549829e-03 -1.28811854e-02\n",
      "  -1.71816139e-03 -1.36789793e-02  0.00000000e+00  2.90625011e-04\n",
      "   0.00000000e+00  0.00000000e+00  0.00000000e+00 -3.64969318e-02\n",
      "   0.00000000e+00  0.00000000e+00  0.00000000e+00  2.97427385e-03\n",
      "   0.00000000e+00  0.00000000e+00  0.00000000e+00 -8.81208122e-04\n",
      "   5.94329149e-04 -1.80754976e-03  9.52067013e-04 -4.82976246e-03\n",
      "   6.92098084e-03 -5.11187157e-04  2.63783713e-02  0.00000000e+00\n",
      "  -7.24498695e-03 -3.25460348e-02  0.00000000e+00  1.75082182e-02\n",
      "   0.00000000e+00  4.37652243e-03 -1.12905296e-03  2.64092213e-03\n",
      "  -8.08803596e-03 -1.67792598e-02  0.00000000e+00  3.24955272e-03\n",
      "  -1.12523539e-02  1.97816449e-02  0.00000000e+00 -6.84296656e-03\n",
      "   1.92029495e-02 -2.14142181e-02  0.00000000e+00  0.00000000e+00\n",
      "   0.00000000e+00  0.00000000e+00  0.00000000e+00  0.00000000e+00\n",
      "   0.00000000e+00]]\n",
      "Training accuracy: 0.618\n",
      "Test accuracy: 0.606\n",
      "\n"
     ]
    },
    {
     "name": "stderr",
     "output_type": "stream",
     "text": [
      "/Library/Frameworks/Python.framework/Versions/3.8/lib/python3.8/site-packages/sklearn/utils/validation.py:72: DataConversionWarning: A column-vector y was passed when a 1d array was expected. Please change the shape of y to (n_samples, ), for example using ravel().\n",
      "  return f(**kwargs)\n"
     ]
    },
    {
     "name": "stdout",
     "output_type": "stream",
     "text": [
      "C: 0.05\n",
      "Coefficient of each feature: [[ 0.00000000e+00  0.00000000e+00  1.20242407e-02  7.61166063e-03\n",
      "   1.51865678e-02 -2.16432651e-02  1.48789639e-03  0.00000000e+00\n",
      "   0.00000000e+00 -2.84772615e-02 -1.31137802e-02  2.38391888e-03\n",
      "   5.74696865e-03  5.84251497e-03  6.82904857e-03 -2.79783188e-03\n",
      "  -2.49889267e-04  0.00000000e+00  2.10972316e-03  0.00000000e+00\n",
      "   0.00000000e+00  0.00000000e+00  0.00000000e+00  0.00000000e+00\n",
      "   0.00000000e+00 -3.10587952e-02  0.00000000e+00  9.14818310e-03\n",
      "   8.30522329e-04  0.00000000e+00  3.69921859e-04 -4.81080066e-03\n",
      "   1.43521289e-05  0.00000000e+00  1.10980059e-02  8.70358898e-03\n",
      "  -6.48353792e-04 -1.10673242e-03  0.00000000e+00  1.91236763e-05\n",
      "  -7.29026166e-03  1.93262145e-02 -3.27726229e-02  4.98154815e-02\n",
      "   4.76586895e-02  0.00000000e+00  0.00000000e+00 -1.41951941e-02\n",
      "   0.00000000e+00  1.50006022e-02  0.00000000e+00  0.00000000e+00\n",
      "   0.00000000e+00  0.00000000e+00  0.00000000e+00  0.00000000e+00\n",
      "   0.00000000e+00 -5.98523015e-02  0.00000000e+00  2.40458778e-02\n",
      "  -9.52391151e-03  2.89256901e-03  5.23304225e-03  1.51842630e-03\n",
      "   3.19480310e-04 -3.60176333e-03  1.56725046e-03  4.43019670e-03\n",
      "   0.00000000e+00 -9.15220886e-03  1.87777940e-03 -6.93206669e-03\n",
      "   7.30948919e-04 -1.41511293e-03  3.17782063e-03  4.23601540e-04\n",
      "  -3.59679935e-03  5.99943057e-03  0.00000000e+00  0.00000000e+00\n",
      "   4.81897536e-03  0.00000000e+00  1.42670767e-02  0.00000000e+00\n",
      "  -6.86582630e-03  0.00000000e+00 -1.37493142e-02  3.44656784e-02\n",
      "   0.00000000e+00  0.00000000e+00 -1.17011830e-02 -1.90212052e-02\n",
      "   0.00000000e+00  0.00000000e+00 -1.27449862e-01  3.35984780e-03\n",
      "  -2.26894170e-03  0.00000000e+00  5.99431141e-03 -7.54322026e-03\n",
      "  -5.00265074e-03 -4.01147533e-03  8.18154196e-03  0.00000000e+00\n",
      "   1.90365919e-02 -1.03536605e-02  0.00000000e+00  0.00000000e+00\n",
      "   0.00000000e+00  0.00000000e+00  0.00000000e+00  0.00000000e+00\n",
      "   1.86498388e-03  0.00000000e+00  1.56457132e-03 -4.61096756e-03\n",
      "   6.58025055e-04  3.82621463e-03  2.82827945e-03  0.00000000e+00\n",
      "   6.23764613e-03  7.94329630e-03 -3.39183496e-03  2.00709509e-03\n",
      "   4.31900677e-03 -1.58760859e-03  1.35351570e-02 -6.37121667e-03\n",
      "   0.00000000e+00  1.46282626e-02 -6.39291434e-03 -2.76918411e-03\n",
      "  -9.77698539e-03  9.34499834e-03 -2.16000477e-03 -1.15521552e-02\n",
      "   0.00000000e+00 -1.29987132e-02  0.00000000e+00  0.00000000e+00\n",
      "   0.00000000e+00  0.00000000e+00  0.00000000e+00 -3.19394885e-02\n",
      "   0.00000000e+00  0.00000000e+00  0.00000000e+00  0.00000000e+00\n",
      "   0.00000000e+00  0.00000000e+00  0.00000000e+00 -6.80954309e-04\n",
      "   4.09770429e-04 -2.17047297e-03  8.56813447e-04 -4.53151537e-03\n",
      "   6.51119323e-03 -6.96345362e-04  2.41710989e-02  0.00000000e+00\n",
      "  -6.79873085e-03 -2.95759838e-02  0.00000000e+00  1.75219151e-02\n",
      "   0.00000000e+00  3.28572432e-03 -5.18635754e-04  2.94023765e-03\n",
      "  -7.00309005e-03 -1.63630143e-02  0.00000000e+00  3.13962672e-03\n",
      "  -1.10809411e-02  1.80499076e-02  0.00000000e+00 -6.21446917e-03\n",
      "   1.72006693e-02 -1.88914315e-02  0.00000000e+00  0.00000000e+00\n",
      "   0.00000000e+00  0.00000000e+00  0.00000000e+00  0.00000000e+00\n",
      "   0.00000000e+00]]\n",
      "Training accuracy: 0.614\n",
      "Test accuracy: 0.598\n",
      "\n"
     ]
    },
    {
     "name": "stderr",
     "output_type": "stream",
     "text": [
      "/Library/Frameworks/Python.framework/Versions/3.8/lib/python3.8/site-packages/sklearn/utils/validation.py:72: DataConversionWarning: A column-vector y was passed when a 1d array was expected. Please change the shape of y to (n_samples, ), for example using ravel().\n",
      "  return f(**kwargs)\n"
     ]
    },
    {
     "name": "stdout",
     "output_type": "stream",
     "text": [
      "C: 0.04\n",
      "Coefficient of each feature: [[ 0.00000000e+00  0.00000000e+00  5.93751970e-03  8.34516579e-03\n",
      "   1.38854915e-02 -1.99088394e-02  1.12644149e-03  0.00000000e+00\n",
      "   0.00000000e+00 -2.68922990e-02 -1.22286663e-03  2.06277431e-03\n",
      "   5.07841559e-03  5.49914768e-03  6.20177692e-03 -2.61152800e-03\n",
      "  -1.35189011e-04  0.00000000e+00  0.00000000e+00  0.00000000e+00\n",
      "   0.00000000e+00  0.00000000e+00  0.00000000e+00  0.00000000e+00\n",
      "   0.00000000e+00 -2.68983906e-02  0.00000000e+00  6.52549145e-03\n",
      "   8.55944356e-04  0.00000000e+00  3.84375958e-04 -4.44215537e-03\n",
      "   1.34190812e-05  0.00000000e+00  9.31700965e-03  7.05720032e-03\n",
      "  -5.94008323e-04 -1.07476683e-03  0.00000000e+00  1.06849520e-05\n",
      "  -4.73653095e-03  1.26846555e-02 -2.72247779e-02  4.82029082e-02\n",
      "   4.39549753e-02  0.00000000e+00  0.00000000e+00 -7.78328275e-03\n",
      "   0.00000000e+00  1.24301919e-02  0.00000000e+00  0.00000000e+00\n",
      "   0.00000000e+00  0.00000000e+00  0.00000000e+00  0.00000000e+00\n",
      "   0.00000000e+00 -5.75624273e-02  0.00000000e+00  2.16298923e-02\n",
      "  -8.74981940e-03  2.75065598e-03  5.55691458e-03  1.88967893e-04\n",
      "   8.83201754e-05 -4.04847285e-03  1.79912544e-03  4.75732842e-03\n",
      "   0.00000000e+00 -8.44879025e-03  1.43416372e-03 -6.19590370e-03\n",
      "   9.67746226e-04 -1.12292583e-03  2.98336099e-03  7.54708948e-04\n",
      "  -2.63931831e-03  5.99731508e-03  0.00000000e+00  0.00000000e+00\n",
      "   4.53208772e-03  0.00000000e+00  1.37542679e-02  0.00000000e+00\n",
      "   0.00000000e+00  0.00000000e+00  0.00000000e+00  1.81657790e-02\n",
      "   0.00000000e+00  0.00000000e+00 -1.00580588e-02 -1.75500911e-02\n",
      "   0.00000000e+00  0.00000000e+00 -1.24121297e-01  0.00000000e+00\n",
      "   0.00000000e+00  0.00000000e+00  5.36771751e-03 -7.57269224e-03\n",
      "  -4.48845473e-03 -3.22196052e-03  7.14734295e-03  0.00000000e+00\n",
      "   1.62841279e-02 -8.16023923e-03  0.00000000e+00  0.00000000e+00\n",
      "   0.00000000e+00  0.00000000e+00  0.00000000e+00  0.00000000e+00\n",
      "   2.15443096e-03  0.00000000e+00  2.12432309e-03 -2.86245480e-03\n",
      "   0.00000000e+00  2.26827269e-03  2.21235247e-03  0.00000000e+00\n",
      "   5.29219566e-03  8.11419628e-03 -1.92771682e-03  1.91828708e-03\n",
      "   3.03227628e-03 -1.71869049e-03  1.14105526e-02 -5.77812817e-03\n",
      "   0.00000000e+00  1.16044797e-02 -5.71114326e-03 -2.55959409e-03\n",
      "  -9.08576724e-03  7.70192866e-03 -1.52330260e-03 -1.00117420e-02\n",
      "   0.00000000e+00 -1.09536503e-02  0.00000000e+00  0.00000000e+00\n",
      "   0.00000000e+00  0.00000000e+00 -5.04588537e-03 -2.10657942e-02\n",
      "   0.00000000e+00  0.00000000e+00  0.00000000e+00  0.00000000e+00\n",
      "   0.00000000e+00  0.00000000e+00  0.00000000e+00 -4.15714837e-04\n",
      "   3.30277253e-06 -2.52697250e-03  3.82886840e-04 -3.94996826e-03\n",
      "   5.90947785e-03 -1.22290416e-03  2.13340440e-02  4.68986989e-05\n",
      "  -6.35780885e-03 -2.63840608e-02  0.00000000e+00  1.72439933e-02\n",
      "   0.00000000e+00  3.08747864e-03 -9.35680359e-05  2.54899182e-03\n",
      "  -5.65435097e-03 -1.55171657e-02  0.00000000e+00  2.47223079e-03\n",
      "  -1.01166054e-02  1.60617452e-02  0.00000000e+00 -4.66468991e-03\n",
      "   1.43806809e-02 -1.60010852e-02  0.00000000e+00  0.00000000e+00\n",
      "   0.00000000e+00  0.00000000e+00  0.00000000e+00  0.00000000e+00\n",
      "   0.00000000e+00]]\n",
      "Training accuracy: 0.608\n",
      "Test accuracy: 0.59\n",
      "\n"
     ]
    },
    {
     "name": "stderr",
     "output_type": "stream",
     "text": [
      "/Library/Frameworks/Python.framework/Versions/3.8/lib/python3.8/site-packages/sklearn/utils/validation.py:72: DataConversionWarning: A column-vector y was passed when a 1d array was expected. Please change the shape of y to (n_samples, ), for example using ravel().\n",
      "  return f(**kwargs)\n"
     ]
    },
    {
     "name": "stdout",
     "output_type": "stream",
     "text": [
      "C: 0.03\n",
      "Coefficient of each feature: [[ 0.00000000e+00  0.00000000e+00  1.69021716e-03  8.79042581e-03\n",
      "   1.09211184e-02 -1.63977910e-02  7.79434841e-04  0.00000000e+00\n",
      "   0.00000000e+00 -2.40264994e-02  0.00000000e+00  1.79452075e-03\n",
      "   4.85292461e-03  5.21642851e-03  5.49772449e-03 -2.00042174e-03\n",
      "   0.00000000e+00  0.00000000e+00  0.00000000e+00  0.00000000e+00\n",
      "   0.00000000e+00  0.00000000e+00  0.00000000e+00  0.00000000e+00\n",
      "   0.00000000e+00 -2.17070274e-02  0.00000000e+00  3.68336607e-03\n",
      "   8.82835597e-04  0.00000000e+00  4.81130882e-04 -3.91960300e-03\n",
      "   1.24785015e-05  0.00000000e+00  7.66088681e-03  3.59424684e-03\n",
      "  -5.26926477e-04 -1.04585876e-03  0.00000000e+00  1.97935597e-05\n",
      "  -1.64751007e-03  3.05333074e-03 -1.64987540e-02  4.56170373e-02\n",
      "   4.07561879e-02  0.00000000e+00  0.00000000e+00  0.00000000e+00\n",
      "   0.00000000e+00  8.84200273e-03  0.00000000e+00  0.00000000e+00\n",
      "   0.00000000e+00  0.00000000e+00  0.00000000e+00  0.00000000e+00\n",
      "   0.00000000e+00 -5.21740952e-02  0.00000000e+00  1.54466433e-02\n",
      "  -6.67650355e-03  3.03116033e-03  6.76482569e-03  0.00000000e+00\n",
      "   5.03063592e-04 -3.92554294e-03  2.43553489e-03  5.44456869e-03\n",
      "   0.00000000e+00 -7.35664063e-03  1.15909864e-03 -5.05171166e-03\n",
      "   3.37748736e-05 -1.88174592e-03  1.55894349e-03  2.20984242e-05\n",
      "  -2.45533429e-03  4.91795090e-03  0.00000000e+00  0.00000000e+00\n",
      "   4.23140551e-03  0.00000000e+00  1.26261322e-02  0.00000000e+00\n",
      "   0.00000000e+00  0.00000000e+00  0.00000000e+00  5.23580651e-03\n",
      "   0.00000000e+00  0.00000000e+00 -6.18635171e-03 -1.69678668e-02\n",
      "   0.00000000e+00  0.00000000e+00 -1.22013210e-01  0.00000000e+00\n",
      "   0.00000000e+00  0.00000000e+00  4.21477868e-03 -8.04513137e-03\n",
      "  -3.70495015e-03 -1.89080194e-03  5.72830670e-03  4.21527650e-04\n",
      "   1.20337398e-02 -4.77442121e-03  0.00000000e+00  0.00000000e+00\n",
      "   0.00000000e+00  0.00000000e+00  0.00000000e+00  0.00000000e+00\n",
      "   2.30197948e-03  0.00000000e+00  1.51989267e-03  0.00000000e+00\n",
      "   0.00000000e+00  0.00000000e+00  1.30422629e-03  0.00000000e+00\n",
      "   4.10585931e-03  7.59230876e-03 -5.28594072e-05  1.41699344e-03\n",
      "   5.65227977e-04 -1.25970008e-03  7.70873507e-03 -6.02849827e-03\n",
      "   0.00000000e+00  6.32485776e-03 -4.33866851e-03 -1.81448322e-03\n",
      "  -7.77282618e-03  5.54096399e-03 -3.18393944e-04 -7.46725300e-03\n",
      "   0.00000000e+00 -7.00323917e-03  0.00000000e+00  0.00000000e+00\n",
      "   0.00000000e+00  0.00000000e+00 -4.95660055e-03 -5.29215367e-03\n",
      "   0.00000000e+00  0.00000000e+00  0.00000000e+00  0.00000000e+00\n",
      "   0.00000000e+00  0.00000000e+00  0.00000000e+00 -2.04366003e-04\n",
      "   0.00000000e+00 -3.77081220e-03  0.00000000e+00 -2.69212572e-03\n",
      "   5.01880015e-03 -1.64468947e-03  1.67321677e-02  1.00930398e-03\n",
      "  -4.13040781e-03 -2.37638320e-02  0.00000000e+00  1.62457066e-02\n",
      "   0.00000000e+00  1.49908520e-03  0.00000000e+00  1.28428331e-03\n",
      "  -3.03145890e-03 -1.40449614e-02  0.00000000e+00  1.14724215e-03\n",
      "  -8.16558467e-03  1.41998683e-02  0.00000000e+00 -1.88816485e-03\n",
      "   8.83380859e-03 -1.05452072e-02  0.00000000e+00  0.00000000e+00\n",
      "   0.00000000e+00  0.00000000e+00  0.00000000e+00  0.00000000e+00\n",
      "   0.00000000e+00]]\n",
      "Training accuracy: 0.6086666666666667\n",
      "Test accuracy: 0.604\n",
      "\n",
      "C: 0.02\n",
      "Coefficient of each feature: [[ 0.00000000e+00  0.00000000e+00  0.00000000e+00  7.56276366e-03\n",
      "   6.45632365e-03 -9.96028280e-03  7.91417184e-04  0.00000000e+00\n",
      "   0.00000000e+00 -1.90225376e-02  0.00000000e+00  1.41572680e-03\n",
      "   4.02189454e-03  4.58674022e-03  3.91171429e-03 -1.48117646e-03\n",
      "   0.00000000e+00  0.00000000e+00  0.00000000e+00  0.00000000e+00\n",
      "   0.00000000e+00  0.00000000e+00  0.00000000e+00  0.00000000e+00\n",
      "   0.00000000e+00 -1.33596227e-02  0.00000000e+00  0.00000000e+00\n",
      "   8.80645841e-04  0.00000000e+00  5.17215063e-04 -2.98587195e-03\n",
      "   1.01726157e-05  0.00000000e+00  3.09242766e-03  0.00000000e+00\n",
      "  -4.60869450e-04 -1.00196620e-03  0.00000000e+00  4.09292226e-05\n",
      "   0.00000000e+00  0.00000000e+00 -2.13162004e-03  3.58539773e-02\n",
      "   3.25156623e-02  0.00000000e+00  0.00000000e+00  0.00000000e+00\n",
      "   0.00000000e+00  6.63173914e-04  0.00000000e+00  0.00000000e+00\n",
      "   0.00000000e+00  0.00000000e+00  0.00000000e+00  0.00000000e+00\n",
      "   0.00000000e+00 -4.00763464e-02  0.00000000e+00  7.20623946e-03\n",
      "  -4.49706944e-03  2.97952137e-03  7.24989660e-03  0.00000000e+00\n",
      "   1.29979931e-03 -4.22838285e-03  1.22782881e-03  4.29811522e-03\n",
      "   0.00000000e+00 -6.89904377e-03  0.00000000e+00 -2.41952223e-03\n",
      "   0.00000000e+00 -1.39783267e-03  0.00000000e+00  0.00000000e+00\n",
      "  -1.01911989e-03  3.72792831e-03  0.00000000e+00  0.00000000e+00\n",
      "   3.33622889e-03  0.00000000e+00  1.16675847e-02  0.00000000e+00\n",
      "   0.00000000e+00  0.00000000e+00  0.00000000e+00  0.00000000e+00\n",
      "   0.00000000e+00  0.00000000e+00  0.00000000e+00 -1.53325011e-02\n",
      "   0.00000000e+00  0.00000000e+00 -1.17276033e-01  0.00000000e+00\n",
      "   0.00000000e+00  0.00000000e+00  2.58607617e-03 -8.07691550e-03\n",
      "  -3.22350655e-03 -2.58148526e-04  4.12586259e-03  6.98901475e-04\n",
      "   7.24197866e-03 -1.29156495e-03  0.00000000e+00  0.00000000e+00\n",
      "   0.00000000e+00  0.00000000e+00  0.00000000e+00  0.00000000e+00\n",
      "   2.22586908e-03  0.00000000e+00  1.95361974e-03  0.00000000e+00\n",
      "   0.00000000e+00  0.00000000e+00  0.00000000e+00  0.00000000e+00\n",
      "   3.33936614e-03  6.74895342e-03  0.00000000e+00  1.23078801e-03\n",
      "   0.00000000e+00  0.00000000e+00  4.54928494e-03 -5.76749424e-03\n",
      "   0.00000000e+00  0.00000000e+00 -3.43620557e-03 -1.70247866e-03\n",
      "  -6.01744288e-03  2.85049435e-03  0.00000000e+00 -4.28529689e-03\n",
      "   0.00000000e+00 -2.07191729e-04  0.00000000e+00  0.00000000e+00\n",
      "   0.00000000e+00  0.00000000e+00  0.00000000e+00  0.00000000e+00\n",
      "   0.00000000e+00  0.00000000e+00  0.00000000e+00  0.00000000e+00\n",
      "   0.00000000e+00  0.00000000e+00  0.00000000e+00  0.00000000e+00\n",
      "   0.00000000e+00 -4.57726399e-03  0.00000000e+00 -6.35325999e-04\n",
      "   3.35352410e-03 -8.10167433e-04  9.45387987e-03  7.63903526e-04\n",
      "   0.00000000e+00 -1.75400825e-02 -7.06780889e-04  1.33970132e-02\n",
      "   0.00000000e+00  0.00000000e+00  0.00000000e+00  0.00000000e+00\n",
      "   0.00000000e+00 -1.12301373e-02  0.00000000e+00  0.00000000e+00\n",
      "  -5.57900132e-03  1.05361351e-02  0.00000000e+00  0.00000000e+00\n",
      "   1.30789386e-03 -2.99272469e-03  0.00000000e+00  0.00000000e+00\n",
      "   0.00000000e+00  0.00000000e+00  0.00000000e+00  0.00000000e+00\n",
      "   0.00000000e+00]]\n",
      "Training accuracy: 0.6033333333333334\n",
      "Test accuracy: 0.598\n",
      "\n"
     ]
    },
    {
     "name": "stderr",
     "output_type": "stream",
     "text": [
      "/Library/Frameworks/Python.framework/Versions/3.8/lib/python3.8/site-packages/sklearn/utils/validation.py:72: DataConversionWarning: A column-vector y was passed when a 1d array was expected. Please change the shape of y to (n_samples, ), for example using ravel().\n",
      "  return f(**kwargs)\n",
      "/Library/Frameworks/Python.framework/Versions/3.8/lib/python3.8/site-packages/sklearn/utils/validation.py:72: DataConversionWarning: A column-vector y was passed when a 1d array was expected. Please change the shape of y to (n_samples, ), for example using ravel().\n",
      "  return f(**kwargs)\n"
     ]
    },
    {
     "name": "stdout",
     "output_type": "stream",
     "text": [
      "C: 0.01\n",
      "Coefficient of each feature: [[ 0.00000000e+00  0.00000000e+00  0.00000000e+00  4.95520224e-03\n",
      "   0.00000000e+00  0.00000000e+00  3.41221863e-04  0.00000000e+00\n",
      "   0.00000000e+00 -7.14512168e-03  0.00000000e+00  0.00000000e+00\n",
      "   3.77295196e-04  2.05592777e-03  0.00000000e+00  0.00000000e+00\n",
      "   0.00000000e+00  0.00000000e+00  0.00000000e+00  0.00000000e+00\n",
      "   0.00000000e+00  0.00000000e+00  0.00000000e+00  0.00000000e+00\n",
      "   0.00000000e+00  0.00000000e+00  0.00000000e+00  0.00000000e+00\n",
      "   9.22828722e-04  0.00000000e+00  2.59281530e-04 -1.70519273e-03\n",
      "   6.36681372e-06  0.00000000e+00  0.00000000e+00  0.00000000e+00\n",
      "  -2.32475984e-04 -7.84573267e-04  0.00000000e+00  1.82092110e-05\n",
      "   0.00000000e+00  0.00000000e+00  0.00000000e+00  5.95953072e-03\n",
      "   0.00000000e+00  0.00000000e+00  0.00000000e+00  0.00000000e+00\n",
      "   0.00000000e+00  0.00000000e+00  0.00000000e+00  0.00000000e+00\n",
      "   0.00000000e+00  0.00000000e+00  0.00000000e+00  0.00000000e+00\n",
      "   0.00000000e+00 -1.10138860e-02  0.00000000e+00  0.00000000e+00\n",
      "  -1.22807956e-03  2.62020099e-03  5.61674446e-03  0.00000000e+00\n",
      "   2.18237555e-03 -2.26491758e-03  0.00000000e+00  0.00000000e+00\n",
      "   0.00000000e+00 -6.65490830e-03  0.00000000e+00 -8.86716094e-04\n",
      "   0.00000000e+00  0.00000000e+00  0.00000000e+00  0.00000000e+00\n",
      "   0.00000000e+00  1.32614407e-03  0.00000000e+00  0.00000000e+00\n",
      "   1.28697891e-03  0.00000000e+00  1.10466246e-02  0.00000000e+00\n",
      "   0.00000000e+00  0.00000000e+00  0.00000000e+00  0.00000000e+00\n",
      "   0.00000000e+00  0.00000000e+00  0.00000000e+00 -3.39231364e-03\n",
      "   0.00000000e+00  0.00000000e+00 -9.60089131e-02  0.00000000e+00\n",
      "   0.00000000e+00  0.00000000e+00  7.87042761e-04 -6.84650745e-03\n",
      "  -8.96807722e-04  0.00000000e+00  2.50467358e-03  0.00000000e+00\n",
      "   2.92909140e-03  0.00000000e+00  0.00000000e+00  0.00000000e+00\n",
      "   0.00000000e+00  0.00000000e+00  0.00000000e+00  0.00000000e+00\n",
      "   8.05682682e-04  0.00000000e+00  4.04155478e-03  0.00000000e+00\n",
      "   0.00000000e+00  0.00000000e+00  0.00000000e+00  0.00000000e+00\n",
      "   3.45820668e-05  5.51661732e-03  0.00000000e+00  7.71265367e-04\n",
      "   0.00000000e+00  0.00000000e+00  0.00000000e+00 -5.72166535e-04\n",
      "   0.00000000e+00  0.00000000e+00 -2.05671965e-03 -6.32661379e-04\n",
      "  -5.11099466e-03  0.00000000e+00  0.00000000e+00 -6.35053862e-05\n",
      "   0.00000000e+00  0.00000000e+00  0.00000000e+00  0.00000000e+00\n",
      "   0.00000000e+00  0.00000000e+00  0.00000000e+00  0.00000000e+00\n",
      "   0.00000000e+00  0.00000000e+00  0.00000000e+00  0.00000000e+00\n",
      "   0.00000000e+00  0.00000000e+00  0.00000000e+00  0.00000000e+00\n",
      "   0.00000000e+00 -1.35039519e-03  0.00000000e+00  0.00000000e+00\n",
      "   0.00000000e+00  0.00000000e+00  0.00000000e+00  0.00000000e+00\n",
      "   0.00000000e+00 -9.73672930e-04  0.00000000e+00  7.40944429e-03\n",
      "   0.00000000e+00  0.00000000e+00  0.00000000e+00  0.00000000e+00\n",
      "   0.00000000e+00 -5.29366424e-03  0.00000000e+00  0.00000000e+00\n",
      "  -1.46550256e-03  1.99461327e-03  0.00000000e+00  0.00000000e+00\n",
      "   0.00000000e+00  0.00000000e+00  0.00000000e+00  0.00000000e+00\n",
      "   0.00000000e+00  0.00000000e+00  0.00000000e+00  0.00000000e+00\n",
      "   0.00000000e+00]]\n",
      "Training accuracy: 0.5886666666666667\n",
      "Test accuracy: 0.596\n",
      "\n",
      "C: 0.008\n",
      "Coefficient of each feature: [[ 0.00000000e+00  0.00000000e+00  0.00000000e+00  1.56628110e-03\n",
      "   0.00000000e+00  0.00000000e+00  0.00000000e+00  0.00000000e+00\n",
      "   0.00000000e+00 -4.70518912e-03  0.00000000e+00  0.00000000e+00\n",
      "   0.00000000e+00  3.15154287e-04  0.00000000e+00  0.00000000e+00\n",
      "   0.00000000e+00  0.00000000e+00  0.00000000e+00  0.00000000e+00\n",
      "   0.00000000e+00  0.00000000e+00  0.00000000e+00  0.00000000e+00\n",
      "   0.00000000e+00  0.00000000e+00  0.00000000e+00  0.00000000e+00\n",
      "   7.89085597e-04  0.00000000e+00  7.96881416e-05 -1.03662357e-03\n",
      "   4.65184695e-06  0.00000000e+00  0.00000000e+00  0.00000000e+00\n",
      "  -2.21746844e-04 -7.27225757e-04  0.00000000e+00  0.00000000e+00\n",
      "   0.00000000e+00  0.00000000e+00  0.00000000e+00  0.00000000e+00\n",
      "   0.00000000e+00  0.00000000e+00  0.00000000e+00  0.00000000e+00\n",
      "   0.00000000e+00  0.00000000e+00  0.00000000e+00  0.00000000e+00\n",
      "   0.00000000e+00  0.00000000e+00  0.00000000e+00  0.00000000e+00\n",
      "   0.00000000e+00 -1.56074785e-03  0.00000000e+00  0.00000000e+00\n",
      "  -3.25982248e-04  2.06308892e-03  5.06398369e-03  0.00000000e+00\n",
      "   2.17709076e-03 -1.39234460e-03  0.00000000e+00  0.00000000e+00\n",
      "   0.00000000e+00 -5.45203566e-03  0.00000000e+00 -4.06401033e-04\n",
      "   0.00000000e+00  0.00000000e+00  0.00000000e+00  0.00000000e+00\n",
      "   0.00000000e+00  4.85209140e-04  0.00000000e+00  0.00000000e+00\n",
      "   0.00000000e+00  0.00000000e+00  1.04663961e-02  0.00000000e+00\n",
      "   0.00000000e+00  0.00000000e+00  0.00000000e+00  0.00000000e+00\n",
      "   0.00000000e+00  0.00000000e+00  0.00000000e+00  0.00000000e+00\n",
      "   0.00000000e+00  0.00000000e+00 -8.68340393e-02  0.00000000e+00\n",
      "   0.00000000e+00  0.00000000e+00  0.00000000e+00 -6.49160768e-03\n",
      "   0.00000000e+00  0.00000000e+00  2.25331719e-03  0.00000000e+00\n",
      "   1.95719255e-03  0.00000000e+00  0.00000000e+00  0.00000000e+00\n",
      "   0.00000000e+00  0.00000000e+00  0.00000000e+00  0.00000000e+00\n",
      "   8.53371964e-04  0.00000000e+00  2.69859766e-03  0.00000000e+00\n",
      "   0.00000000e+00  0.00000000e+00  0.00000000e+00  0.00000000e+00\n",
      "   0.00000000e+00  4.73795208e-03  0.00000000e+00  0.00000000e+00\n",
      "   0.00000000e+00  0.00000000e+00  0.00000000e+00  0.00000000e+00\n",
      "   0.00000000e+00  0.00000000e+00 -1.81305338e-03  0.00000000e+00\n",
      "  -4.58979076e-03  0.00000000e+00  0.00000000e+00  0.00000000e+00\n",
      "   0.00000000e+00  0.00000000e+00  0.00000000e+00  0.00000000e+00\n",
      "   0.00000000e+00  0.00000000e+00  0.00000000e+00  0.00000000e+00\n",
      "   0.00000000e+00  0.00000000e+00  0.00000000e+00  0.00000000e+00\n",
      "   0.00000000e+00  0.00000000e+00  0.00000000e+00  0.00000000e+00\n",
      "   0.00000000e+00 -8.61406290e-04  0.00000000e+00  0.00000000e+00\n",
      "   0.00000000e+00  0.00000000e+00  0.00000000e+00  0.00000000e+00\n",
      "   0.00000000e+00  0.00000000e+00  0.00000000e+00  5.09151642e-03\n",
      "   0.00000000e+00  0.00000000e+00  0.00000000e+00  0.00000000e+00\n",
      "   0.00000000e+00 -3.29894009e-03  0.00000000e+00  0.00000000e+00\n",
      "  -5.59735556e-04  3.34194941e-04  0.00000000e+00  0.00000000e+00\n",
      "   0.00000000e+00  0.00000000e+00  0.00000000e+00  0.00000000e+00\n",
      "   0.00000000e+00  0.00000000e+00  0.00000000e+00  0.00000000e+00\n",
      "   0.00000000e+00]]\n",
      "Training accuracy: 0.584\n",
      "Test accuracy: 0.604\n",
      "\n",
      "C: 0.005\n",
      "Coefficient of each feature: [[ 0.00000000e+00  0.00000000e+00  0.00000000e+00  0.00000000e+00\n",
      "   0.00000000e+00  0.00000000e+00  0.00000000e+00  0.00000000e+00\n",
      "   0.00000000e+00 -4.48961204e-03  0.00000000e+00  0.00000000e+00\n",
      "   0.00000000e+00  0.00000000e+00  0.00000000e+00  0.00000000e+00\n",
      "   0.00000000e+00  0.00000000e+00  0.00000000e+00  0.00000000e+00\n",
      "   0.00000000e+00  0.00000000e+00  0.00000000e+00  0.00000000e+00\n",
      "   0.00000000e+00  0.00000000e+00  0.00000000e+00  0.00000000e+00\n",
      "   4.50095904e-04  0.00000000e+00 -1.45709963e-04  0.00000000e+00\n",
      "   3.20213434e-07  0.00000000e+00  0.00000000e+00  0.00000000e+00\n",
      "  -3.22925413e-04 -5.75853875e-04  0.00000000e+00 -5.39138596e-05\n",
      "   0.00000000e+00  0.00000000e+00  0.00000000e+00  0.00000000e+00\n",
      "   0.00000000e+00  0.00000000e+00  0.00000000e+00  0.00000000e+00\n",
      "   0.00000000e+00  0.00000000e+00  0.00000000e+00  0.00000000e+00\n",
      "   0.00000000e+00  0.00000000e+00  0.00000000e+00  0.00000000e+00\n",
      "   0.00000000e+00  0.00000000e+00  0.00000000e+00  0.00000000e+00\n",
      "   0.00000000e+00  0.00000000e+00  3.35725134e-03  0.00000000e+00\n",
      "   2.64159714e-03 -4.56558620e-04  0.00000000e+00  0.00000000e+00\n",
      "   0.00000000e+00 -1.96109127e-03  0.00000000e+00  0.00000000e+00\n",
      "   0.00000000e+00  0.00000000e+00  0.00000000e+00  0.00000000e+00\n",
      "   0.00000000e+00  0.00000000e+00  0.00000000e+00  0.00000000e+00\n",
      "   0.00000000e+00  0.00000000e+00  8.11694061e-03  0.00000000e+00\n",
      "   0.00000000e+00  0.00000000e+00  0.00000000e+00  0.00000000e+00\n",
      "   0.00000000e+00  0.00000000e+00  0.00000000e+00  0.00000000e+00\n",
      "   0.00000000e+00  0.00000000e+00 -5.56903175e-02  0.00000000e+00\n",
      "   0.00000000e+00  0.00000000e+00  0.00000000e+00 -3.82437644e-03\n",
      "   0.00000000e+00  0.00000000e+00  5.63430919e-04  0.00000000e+00\n",
      "   0.00000000e+00  0.00000000e+00  0.00000000e+00  0.00000000e+00\n",
      "   0.00000000e+00  0.00000000e+00  0.00000000e+00  0.00000000e+00\n",
      "   8.47337140e-04  0.00000000e+00  0.00000000e+00  0.00000000e+00\n",
      "   0.00000000e+00  0.00000000e+00  0.00000000e+00  0.00000000e+00\n",
      "   0.00000000e+00  1.75343138e-03  0.00000000e+00  0.00000000e+00\n",
      "   0.00000000e+00  0.00000000e+00  0.00000000e+00  0.00000000e+00\n",
      "   0.00000000e+00  0.00000000e+00 -9.22718002e-04  0.00000000e+00\n",
      "  -1.65566172e-03  0.00000000e+00  0.00000000e+00  0.00000000e+00\n",
      "   0.00000000e+00  0.00000000e+00  0.00000000e+00  0.00000000e+00\n",
      "   0.00000000e+00  0.00000000e+00  0.00000000e+00  0.00000000e+00\n",
      "   0.00000000e+00  0.00000000e+00  0.00000000e+00  0.00000000e+00\n",
      "   0.00000000e+00  0.00000000e+00  0.00000000e+00  0.00000000e+00\n",
      "   0.00000000e+00 -9.63824965e-06  0.00000000e+00  0.00000000e+00\n",
      "   0.00000000e+00  0.00000000e+00  0.00000000e+00  0.00000000e+00\n",
      "   0.00000000e+00  0.00000000e+00  0.00000000e+00  2.83569274e-04\n",
      "   0.00000000e+00  0.00000000e+00  0.00000000e+00  0.00000000e+00\n",
      "   0.00000000e+00  0.00000000e+00  0.00000000e+00  0.00000000e+00\n",
      "   0.00000000e+00  0.00000000e+00  0.00000000e+00  0.00000000e+00\n",
      "   0.00000000e+00  0.00000000e+00  0.00000000e+00  0.00000000e+00\n",
      "   0.00000000e+00  0.00000000e+00  0.00000000e+00  0.00000000e+00\n",
      "   0.00000000e+00]]\n",
      "Training accuracy: 0.5826666666666667\n",
      "Test accuracy: 0.612\n",
      "\n",
      "C: 0.001\n",
      "Coefficient of each feature: [[ 0.00000000e+00  0.00000000e+00  0.00000000e+00  0.00000000e+00\n",
      "   0.00000000e+00  0.00000000e+00  0.00000000e+00  0.00000000e+00\n",
      "   0.00000000e+00  0.00000000e+00  0.00000000e+00  0.00000000e+00\n",
      "   0.00000000e+00  0.00000000e+00  0.00000000e+00  0.00000000e+00\n",
      "   0.00000000e+00  0.00000000e+00  0.00000000e+00  0.00000000e+00\n",
      "   0.00000000e+00  0.00000000e+00  0.00000000e+00  0.00000000e+00\n",
      "   0.00000000e+00  0.00000000e+00  0.00000000e+00  0.00000000e+00\n",
      "  -2.72327981e-05  0.00000000e+00 -6.64866502e-04  0.00000000e+00\n",
      "  -5.64637654e-06  0.00000000e+00  0.00000000e+00  0.00000000e+00\n",
      "  -7.99449026e-04 -3.19880478e-04  0.00000000e+00 -3.67086919e-04\n",
      "   0.00000000e+00  0.00000000e+00  0.00000000e+00  0.00000000e+00\n",
      "   0.00000000e+00  0.00000000e+00  0.00000000e+00  0.00000000e+00\n",
      "   0.00000000e+00  0.00000000e+00  0.00000000e+00  0.00000000e+00\n",
      "   0.00000000e+00  0.00000000e+00  0.00000000e+00  0.00000000e+00\n",
      "   0.00000000e+00  0.00000000e+00  0.00000000e+00  0.00000000e+00\n",
      "   0.00000000e+00  0.00000000e+00  0.00000000e+00  0.00000000e+00\n",
      "   2.70988655e-03  0.00000000e+00  0.00000000e+00  0.00000000e+00\n",
      "   0.00000000e+00  0.00000000e+00  0.00000000e+00  0.00000000e+00\n",
      "   0.00000000e+00  0.00000000e+00  0.00000000e+00  0.00000000e+00\n",
      "   0.00000000e+00  0.00000000e+00  0.00000000e+00  0.00000000e+00\n",
      "   0.00000000e+00  0.00000000e+00  0.00000000e+00  0.00000000e+00\n",
      "   0.00000000e+00  0.00000000e+00  0.00000000e+00  0.00000000e+00\n",
      "   0.00000000e+00  0.00000000e+00  0.00000000e+00  0.00000000e+00\n",
      "   0.00000000e+00  0.00000000e+00  0.00000000e+00  0.00000000e+00\n",
      "   0.00000000e+00  0.00000000e+00  0.00000000e+00  0.00000000e+00\n",
      "   0.00000000e+00  0.00000000e+00  0.00000000e+00  0.00000000e+00\n",
      "   0.00000000e+00  0.00000000e+00  0.00000000e+00  0.00000000e+00\n",
      "   0.00000000e+00  0.00000000e+00  0.00000000e+00  0.00000000e+00\n",
      "   0.00000000e+00  0.00000000e+00  0.00000000e+00  0.00000000e+00\n",
      "   0.00000000e+00  0.00000000e+00  0.00000000e+00  0.00000000e+00\n",
      "   0.00000000e+00  0.00000000e+00  0.00000000e+00  0.00000000e+00\n",
      "   0.00000000e+00  0.00000000e+00  0.00000000e+00  0.00000000e+00\n",
      "   0.00000000e+00  0.00000000e+00  0.00000000e+00  0.00000000e+00\n",
      "   0.00000000e+00  0.00000000e+00  0.00000000e+00  0.00000000e+00\n",
      "   0.00000000e+00  0.00000000e+00  0.00000000e+00  0.00000000e+00\n",
      "   0.00000000e+00  0.00000000e+00  0.00000000e+00  0.00000000e+00\n",
      "   0.00000000e+00  0.00000000e+00  0.00000000e+00  0.00000000e+00\n",
      "   0.00000000e+00  0.00000000e+00  0.00000000e+00  0.00000000e+00\n",
      "   0.00000000e+00  0.00000000e+00  0.00000000e+00  0.00000000e+00\n",
      "   0.00000000e+00  0.00000000e+00  0.00000000e+00  0.00000000e+00\n",
      "   0.00000000e+00  0.00000000e+00  0.00000000e+00  0.00000000e+00\n",
      "   0.00000000e+00  0.00000000e+00  0.00000000e+00  0.00000000e+00\n",
      "   0.00000000e+00  0.00000000e+00  0.00000000e+00  0.00000000e+00\n",
      "   0.00000000e+00  0.00000000e+00  0.00000000e+00  0.00000000e+00\n",
      "   0.00000000e+00  0.00000000e+00  0.00000000e+00  0.00000000e+00\n",
      "   0.00000000e+00  0.00000000e+00  0.00000000e+00  0.00000000e+00\n",
      "   0.00000000e+00]]\n",
      "Training accuracy: 0.5846666666666667\n",
      "Test accuracy: 0.496\n",
      "\n"
     ]
    },
    {
     "name": "stderr",
     "output_type": "stream",
     "text": [
      "/Library/Frameworks/Python.framework/Versions/3.8/lib/python3.8/site-packages/sklearn/utils/validation.py:72: DataConversionWarning: A column-vector y was passed when a 1d array was expected. Please change the shape of y to (n_samples, ), for example using ravel().\n",
      "  return f(**kwargs)\n",
      "/Library/Frameworks/Python.framework/Versions/3.8/lib/python3.8/site-packages/sklearn/utils/validation.py:72: DataConversionWarning: A column-vector y was passed when a 1d array was expected. Please change the shape of y to (n_samples, ), for example using ravel().\n",
      "  return f(**kwargs)\n",
      "/Library/Frameworks/Python.framework/Versions/3.8/lib/python3.8/site-packages/sklearn/utils/validation.py:72: DataConversionWarning: A column-vector y was passed when a 1d array was expected. Please change the shape of y to (n_samples, ), for example using ravel().\n",
      "  return f(**kwargs)\n"
     ]
    }
   ],
   "source": [
    "C = [.06, .05, .04, .03, .02, .01, 0.008, 0.005, 0.001]\n",
    "\n",
    "for c in C:\n",
    "    clf = LogisticRegression(penalty='l1', C = c, solver = 'liblinear')\n",
    "    clf.fit(X_train_high, y_train_high)\n",
    "    print('C:', c)\n",
    "    print('Coefficient of each feature:', clf.coef_)\n",
    "    print('Training accuracy:', clf.score(X_train_high_std, y_train_high))\n",
    "    print('Test accuracy:', clf.score(X_test_high_std, y_test_high))\n",
    "    print('')\n"
   ]
  },
  {
   "cell_type": "markdown",
   "metadata": {},
   "source": [
    "#### 2.2 Best model "
   ]
  },
  {
   "cell_type": "code",
   "execution_count": 39,
   "metadata": {},
   "outputs": [],
   "source": [
    "# Best: C = 0.06\n",
    "start_time_l1_high = time.time()\n",
    "clf_high = LogisticRegression(penalty='l1', C = 0.06, solver = 'liblinear')"
   ]
  },
  {
   "cell_type": "markdown",
   "metadata": {},
   "source": [
    "#### 2.3 Calculate propensity scores"
   ]
  },
  {
   "cell_type": "code",
   "execution_count": 40,
   "metadata": {},
   "outputs": [],
   "source": [
    "clf_high.fit(X_high, y_high.values.ravel())\n",
    "ps_high=clf_high.predict_proba(X_high)[:, 1]"
   ]
  },
  {
   "cell_type": "markdown",
   "metadata": {},
   "source": [
    "#### 3. Doubly Robust Estimation Algorithm to calculate ATE"
   ]
  },
  {
   "cell_type": "code",
   "execution_count": 41,
   "metadata": {},
   "outputs": [],
   "source": [
    "full_high_dim= highDim.copy()\n",
    "full_high_dim['PS']=pd.Series(ps_high, index=full_high_dim.index)"
   ]
  },
  {
   "cell_type": "code",
   "execution_count": 42,
   "metadata": {},
   "outputs": [],
   "source": [
    "# deviding the high dimensional data into treated and control groups\n",
    "highDim_treated = highDim[highDim['A'] == 1]\n",
    "highDim_treated = highDim_treated.reset_index(drop = True)\n",
    "\n",
    "highDim_control = highDim[highDim['A'] == 0]\n",
    "highDim_control = highDim_control.reset_index(drop = True)\n",
    "\n",
    "\n",
    "# Fit a regression model to get the estimation of y given T=1 and X \n",
    "X1_high_treated = highDim_treated.drop(['Y'], axis = 1)\n",
    "y_high_treated = highDim_treated['Y']\n",
    "lr_high_treated = LinearRegression().fit(X1_high_treated, y_high_treated)\n",
    "\n",
    "\n",
    "# Fit a regression model to get the estimation of y given T=0 and X \n",
    "X1_high_control = highDim_control.drop(['Y'], axis = 1)\n",
    "y_high_control = highDim_control['Y']\n",
    "lr_high_control = LinearRegression().fit(X1_high_control, y_high_control)"
   ]
  },
  {
   "cell_type": "code",
   "execution_count": 43,
   "metadata": {},
   "outputs": [],
   "source": [
    "X_high_new = full_high_dim.drop(['Y','PS'], axis = 1)\n",
    "m1_high= lr_high_treated.predict(X_high_new)\n",
    "m0_high= lr_high_control.predict(X_high_new)\n",
    "full_high_dim['m1'] = pd.Series(m1_high, index = full_high_dim.index)\n",
    "full_high_dim['m0'] = pd.Series(m0_high, index = full_high_dim.index)"
   ]
  },
  {
   "cell_type": "code",
   "execution_count": 44,
   "metadata": {},
   "outputs": [
    {
     "data": {
      "text/plain": [
       "-3.0962049953946535"
      ]
     },
     "execution_count": 44,
     "metadata": {},
     "output_type": "execute_result"
    }
   ],
   "source": [
    "start_time_dre_high = time.time()\n",
    "DRE(full_high_dim)"
   ]
  },
  {
   "cell_type": "code",
   "execution_count": 47,
   "metadata": {},
   "outputs": [
    {
     "name": "stdout",
     "output_type": "stream",
     "text": [
      "The estimated ATE for low dimensional data is: -3.0962049953946535\n",
      "Accuracy of ATE estimation of low dimensional data is: 3.206833179821785\n",
      "Running time of L1 Logist Regression model on low dimensional data is: 208.83839631080627 s\n",
      "Running time of DRE model on low dimensional data is: 201.6145739555359 s\n"
     ]
    }
   ],
   "source": [
    "print(f'The estimated ATE for low dimensional data is: {DRE(full_high_dim)}')\n",
    "high_acc = (DRE(full_high_dim) - (-3))/(-3) * 100\n",
    "print(f'Accuracy of ATE estimation of low dimensional data is: {high_acc}')\n",
    "l1_time_high = time.time() - start_time_l1_high \n",
    "print(f'Running time of L1 Logist Regression model on low dimensional data is: {l1_time_high} s')\n",
    "dre_time_high = time.time() - start_time_dre_high\n",
    "print(f'Running time of DRE model on low dimensional data is: {dre_time_high} s')\n"
   ]
  },
  {
   "cell_type": "markdown",
   "metadata": {},
   "source": [
    "### Summary Table "
   ]
  },
  {
   "cell_type": "code",
   "execution_count": 50,
   "metadata": {},
   "outputs": [],
   "source": [
    "summary_table = pd.DataFrame(np.array([[l1_time_low, dre_time_low,low_acc], [l1_time_high, dre_time_high,high_acc]]),\n",
    "                   columns=['l1 running time', 'DRE running time', 'Accuracy of ATE'],\n",
    "                            index=['low dim','high dim'])\n"
   ]
  },
  {
   "cell_type": "code",
   "execution_count": 51,
   "metadata": {},
   "outputs": [
    {
     "data": {
      "text/html": [
       "<div>\n",
       "<style scoped>\n",
       "    .dataframe tbody tr th:only-of-type {\n",
       "        vertical-align: middle;\n",
       "    }\n",
       "\n",
       "    .dataframe tbody tr th {\n",
       "        vertical-align: top;\n",
       "    }\n",
       "\n",
       "    .dataframe thead th {\n",
       "        text-align: right;\n",
       "    }\n",
       "</style>\n",
       "<table border=\"1\" class=\"dataframe\">\n",
       "  <thead>\n",
       "    <tr style=\"text-align: right;\">\n",
       "      <th></th>\n",
       "      <th>l1 running time</th>\n",
       "      <th>DRE running time</th>\n",
       "      <th>Accuracy of ATE</th>\n",
       "    </tr>\n",
       "  </thead>\n",
       "  <tbody>\n",
       "    <tr>\n",
       "      <th>low dim</th>\n",
       "      <td>385.053132</td>\n",
       "      <td>408.013230</td>\n",
       "      <td>3.831824</td>\n",
       "    </tr>\n",
       "    <tr>\n",
       "      <th>high dim</th>\n",
       "      <td>208.838396</td>\n",
       "      <td>201.614574</td>\n",
       "      <td>3.206833</td>\n",
       "    </tr>\n",
       "  </tbody>\n",
       "</table>\n",
       "</div>"
      ],
      "text/plain": [
       "          l1 running time  DRE running time  Accuracy of ATE\n",
       "low dim        385.053132        408.013230         3.831824\n",
       "high dim       208.838396        201.614574         3.206833"
      ]
     },
     "execution_count": 51,
     "metadata": {},
     "output_type": "execute_result"
    }
   ],
   "source": [
    "summary_table"
   ]
  },
  {
   "cell_type": "code",
   "execution_count": null,
   "metadata": {},
   "outputs": [],
   "source": []
  }
 ],
 "metadata": {
  "kernelspec": {
   "display_name": "Python 3",
   "language": "python",
   "name": "python3"
  },
  "language_info": {
   "codemirror_mode": {
    "name": "ipython",
    "version": 3
   },
   "file_extension": ".py",
   "mimetype": "text/x-python",
   "name": "python",
   "nbconvert_exporter": "python",
   "pygments_lexer": "ipython3",
   "version": "3.8.5"
  }
 },
 "nbformat": 4,
 "nbformat_minor": 4
}

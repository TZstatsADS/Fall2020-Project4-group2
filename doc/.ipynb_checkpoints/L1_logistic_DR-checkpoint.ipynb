{
 "cells": [
  {
   "cell_type": "markdown",
   "metadata": {},
   "source": [
    "# GR5241 Project4 \n",
    "##  L1 penalized logistic regression + Doubly Robust Estimation "
   ]
  },
  {
   "cell_type": "code",
   "execution_count": 1,
   "metadata": {},
   "outputs": [],
   "source": [
    "import numpy as np\n",
    "import pandas as pd\n",
    "import statsmodels.api as sm\n",
    "import time\n",
    "from sklearn.linear_model import LogisticRegression\n",
    "from sklearn.model_selection import train_test_split\n",
    "from sklearn.preprocessing import StandardScaler\n",
    "from sklearn.linear_model import LinearRegression\n"
   ]
  },
  {
   "cell_type": "markdown",
   "metadata": {},
   "source": [
    "###  Low Dimensional data\n",
    "#### Data processing \n",
    "#### 1.1 Create X and Y variables for L1 Logistic Regression "
   ]
  },
  {
   "cell_type": "code",
   "execution_count": 2,
   "metadata": {},
   "outputs": [],
   "source": [
    "lowDim = pd.read_csv(r'../data/lowDim_dataset.csv')\n",
    "X_low = lowDim.drop(['A','Y'], axis = 1)  \n",
    "y_low = lowDim[['A']]"
   ]
  },
  {
   "cell_type": "markdown",
   "metadata": {},
   "source": [
    "#### 1.2 Split data into training and testing sets"
   ]
  },
  {
   "cell_type": "code",
   "execution_count": 3,
   "metadata": {},
   "outputs": [],
   "source": [
    "X_train_low, X_test_low, y_train_low, y_test_low = train_test_split(X_low, y_low, test_size=0.25, random_state=0)"
   ]
  },
  {
   "cell_type": "markdown",
   "metadata": {},
   "source": [
    "#### 1.3 Standardize features\n",
    "- Because the regularization penalty is comprised of the sum of the absolute value of the coefficients, we need to scale the data so the coefficients are all based on the same scale."
   ]
  },
  {
   "cell_type": "code",
   "execution_count": 4,
   "metadata": {},
   "outputs": [],
   "source": [
    "# Create a scaler object\n",
    "sc = StandardScaler()\n",
    "X_train_low_std = sc.fit_transform(X_train_low)\n",
    "X_test_low_std = sc.transform(X_test_low)"
   ]
  },
  {
   "cell_type": "markdown",
   "metadata": {},
   "source": [
    "#### 2. L1 penalized logistic regression \n",
    "#### 2.1 Parameter tunning "
   ]
  },
  {
   "cell_type": "code",
   "execution_count": 5,
   "metadata": {},
   "outputs": [
    {
     "name": "stdout",
     "output_type": "stream",
     "text": [
      "C: 1\n",
      "Training accuracy: 0.7837078651685393\n",
      "Test accuracy: 0.7226890756302521\n",
      "\n",
      "C: 0.95\n",
      "Training accuracy: 0.7837078651685393\n",
      "Test accuracy: 0.7142857142857143\n",
      "\n",
      "C: 0.9\n",
      "Training accuracy: 0.7837078651685393\n",
      "Test accuracy: 0.7226890756302521\n",
      "\n",
      "C: 0.85\n",
      "Training accuracy: 0.7837078651685393\n",
      "Test accuracy: 0.7142857142857143\n",
      "\n",
      "C: 0.8\n",
      "Training accuracy: 0.7837078651685393\n",
      "Test accuracy: 0.7142857142857143\n",
      "\n",
      "C: 0.75\n",
      "Training accuracy: 0.7837078651685393\n",
      "Test accuracy: 0.7142857142857143\n",
      "\n",
      "C: 0.7\n",
      "Training accuracy: 0.7808988764044944\n",
      "Test accuracy: 0.7142857142857143\n",
      "\n",
      "C: 0.65\n",
      "Training accuracy: 0.7808988764044944\n",
      "Test accuracy: 0.7226890756302521\n",
      "\n",
      "C: 0.5\n",
      "Training accuracy: 0.7837078651685393\n",
      "Test accuracy: 0.7226890756302521\n",
      "\n",
      "C: 0.3\n",
      "Training accuracy: 0.7837078651685393\n",
      "Test accuracy: 0.7394957983193278\n",
      "\n",
      "C: 0.2\n",
      "Training accuracy: 0.7837078651685393\n",
      "Test accuracy: 0.7394957983193278\n",
      "\n",
      "C: 0.1\n",
      "Training accuracy: 0.7696629213483146\n",
      "Test accuracy: 0.7478991596638656\n",
      "\n"
     ]
    },
    {
     "name": "stderr",
     "output_type": "stream",
     "text": [
      "C:\\Users\\Yotam\\Anaconda3\\lib\\site-packages\\sklearn\\utils\\validation.py:72: DataConversionWarning: A column-vector y was passed when a 1d array was expected. Please change the shape of y to (n_samples, ), for example using ravel().\n",
      "  return f(**kwargs)\n",
      "C:\\Users\\Yotam\\Anaconda3\\lib\\site-packages\\sklearn\\utils\\validation.py:72: DataConversionWarning: A column-vector y was passed when a 1d array was expected. Please change the shape of y to (n_samples, ), for example using ravel().\n",
      "  return f(**kwargs)\n",
      "C:\\Users\\Yotam\\Anaconda3\\lib\\site-packages\\sklearn\\utils\\validation.py:72: DataConversionWarning: A column-vector y was passed when a 1d array was expected. Please change the shape of y to (n_samples, ), for example using ravel().\n",
      "  return f(**kwargs)\n",
      "C:\\Users\\Yotam\\Anaconda3\\lib\\site-packages\\sklearn\\utils\\validation.py:72: DataConversionWarning: A column-vector y was passed when a 1d array was expected. Please change the shape of y to (n_samples, ), for example using ravel().\n",
      "  return f(**kwargs)\n",
      "C:\\Users\\Yotam\\Anaconda3\\lib\\site-packages\\sklearn\\utils\\validation.py:72: DataConversionWarning: A column-vector y was passed when a 1d array was expected. Please change the shape of y to (n_samples, ), for example using ravel().\n",
      "  return f(**kwargs)\n",
      "C:\\Users\\Yotam\\Anaconda3\\lib\\site-packages\\sklearn\\utils\\validation.py:72: DataConversionWarning: A column-vector y was passed when a 1d array was expected. Please change the shape of y to (n_samples, ), for example using ravel().\n",
      "  return f(**kwargs)\n",
      "C:\\Users\\Yotam\\Anaconda3\\lib\\site-packages\\sklearn\\utils\\validation.py:72: DataConversionWarning: A column-vector y was passed when a 1d array was expected. Please change the shape of y to (n_samples, ), for example using ravel().\n",
      "  return f(**kwargs)\n",
      "C:\\Users\\Yotam\\Anaconda3\\lib\\site-packages\\sklearn\\utils\\validation.py:72: DataConversionWarning: A column-vector y was passed when a 1d array was expected. Please change the shape of y to (n_samples, ), for example using ravel().\n",
      "  return f(**kwargs)\n",
      "C:\\Users\\Yotam\\Anaconda3\\lib\\site-packages\\sklearn\\utils\\validation.py:72: DataConversionWarning: A column-vector y was passed when a 1d array was expected. Please change the shape of y to (n_samples, ), for example using ravel().\n",
      "  return f(**kwargs)\n",
      "C:\\Users\\Yotam\\Anaconda3\\lib\\site-packages\\sklearn\\utils\\validation.py:72: DataConversionWarning: A column-vector y was passed when a 1d array was expected. Please change the shape of y to (n_samples, ), for example using ravel().\n",
      "  return f(**kwargs)\n",
      "C:\\Users\\Yotam\\Anaconda3\\lib\\site-packages\\sklearn\\utils\\validation.py:72: DataConversionWarning: A column-vector y was passed when a 1d array was expected. Please change the shape of y to (n_samples, ), for example using ravel().\n",
      "  return f(**kwargs)\n",
      "C:\\Users\\Yotam\\Anaconda3\\lib\\site-packages\\sklearn\\utils\\validation.py:72: DataConversionWarning: A column-vector y was passed when a 1d array was expected. Please change the shape of y to (n_samples, ), for example using ravel().\n",
      "  return f(**kwargs)\n"
     ]
    }
   ],
   "source": [
    "C = [1, 0.95, 0.9, 0.85, 0.8, 0.75, 0.7, 0.65, 0.5, 0.3, 0.2, 0.1]\n",
    "for c in C:\n",
    "    clf = LogisticRegression(penalty='l1', C = c, solver = 'liblinear')\n",
    "    clf.fit(X_train_low, y_train_low)\n",
    "    print('C:', c)\n",
    "    print('Training accuracy:', clf.score(X_train_low_std, y_train_low))\n",
    "    print('Test accuracy:', clf.score(X_test_low_std, y_test_low))\n",
    "    print('')   "
   ]
  },
  {
   "cell_type": "code",
   "execution_count": 6,
   "metadata": {},
   "outputs": [],
   "source": [
    "start_time_l1_low = time.time()\n",
    "# Best: C = 1\n",
    "clf_low = LogisticRegression(penalty='l1', C = 1, solver = 'liblinear')"
   ]
  },
  {
   "cell_type": "markdown",
   "metadata": {},
   "source": [
    "#### 2.2 Calculate propensity scores"
   ]
  },
  {
   "cell_type": "code",
   "execution_count": 7,
   "metadata": {},
   "outputs": [],
   "source": [
    "clf_low.fit(X_low, y_low.values.ravel())\n",
    "ps_low=clf_low.predict_proba(X_low)[:, 1]"
   ]
  },
  {
   "cell_type": "markdown",
   "metadata": {},
   "source": [
    "#### 3. Doubly Robust Estimation for ATE"
   ]
  },
  {
   "cell_type": "code",
   "execution_count": 8,
   "metadata": {},
   "outputs": [],
   "source": [
    "full_low_dim = lowDim.copy()\n",
    "full_low_dim['PS']=pd.Series(ps_low, index=full_low_dim.index)"
   ]
  },
  {
   "cell_type": "code",
   "execution_count": 9,
   "metadata": {},
   "outputs": [],
   "source": [
    "# deviding the low dimensional data into treated and control groups\n",
    "\n",
    "lowDim_treated = lowDim[lowDim['A'] == 1]\n",
    "lowDim_treated = lowDim_treated.reset_index(drop = True)\n",
    "\n",
    "lowDim_control = lowDim[lowDim['A'] == 0]\n",
    "lowDim_control = lowDim_control.reset_index(drop = True)\n",
    "\n",
    "#Fit a regression model to get the estimation of y given T=1 and X \n",
    "X1_low_treated = lowDim_treated.drop(['Y'], axis = 1)\n",
    "y_low_treated = lowDim_treated['Y']\n",
    "lr_low_treated = LinearRegression().fit(X1_low_treated, y_low_treated)\n",
    "\n",
    "# Fit a regression model to get the estimation of y given T=0and X \n",
    "X1_low_control = lowDim_control.drop(['Y'], axis = 1)\n",
    "y_low_control = lowDim_control['Y']\n",
    "lr_low_control = LinearRegression().fit(X1_low_control, y_low_control)"
   ]
  },
  {
   "cell_type": "code",
   "execution_count": 10,
   "metadata": {},
   "outputs": [],
   "source": [
    "# Select all covariates and 'A' columns from full dataset\n",
    "X_low_new = full_low_dim.drop(['Y','PS'], axis = 1)\n",
    "m1_low= lr_low_treated.predict(X_low_new)\n",
    "m0_low= lr_low_control.predict(X_low_new)\n",
    "# join m1 and m0 to full_low_dim\n",
    "full_low_dim['m1'] = pd.Series(m1_low, index = full_low_dim.index)\n",
    "full_low_dim['m0'] = pd.Series(m0_low, index = full_low_dim.index)"
   ]
  },
  {
   "cell_type": "code",
   "execution_count": 11,
   "metadata": {},
   "outputs": [],
   "source": [
    "def DRE(full_data):\n",
    "    \n",
    "    n = len(full_data.index)\n",
    "    result1 = 0\n",
    "    result2 = 0\n",
    "    \n",
    "    for i in range(n):\n",
    "        result1 = result1 + (full_data['A'][i] * full_data['Y'][i] - (full_data['A'][i] - full_data['PS'][i])*full_data['m1'][i])/full_data['PS'][i]\n",
    "        result2 = result2 + ((1-full_data['A'][i])* full_data['Y'][i] - (full_data['A'][i] - full_data['PS'][i])*full_data['m0'][i])/(1-full_data['PS'][i])\n",
    "        \n",
    "    ETA = 1/n*(result1-result2)\n",
    "    \n",
    "    return ETA"
   ]
  },
  {
   "cell_type": "code",
   "execution_count": 12,
   "metadata": {},
   "outputs": [
    {
     "data": {
      "text/plain": [
       "2.4041556552378998"
      ]
     },
     "execution_count": 12,
     "metadata": {},
     "output_type": "execute_result"
    }
   ],
   "source": [
    "start_time_dre_low = time.time()\n",
    "DRE(full_low_dim)"
   ]
  },
  {
   "cell_type": "code",
   "execution_count": 13,
   "metadata": {},
   "outputs": [
    {
     "name": "stdout",
     "output_type": "stream",
     "text": [
      "The estimated ATE for low dimensional data is: 2.4041556552378998\n",
      "Accuracy of ATE estimation of low dimensional data is: 3.8337737904840097\n",
      "Running time of L1 Logist Regression model on low dimensional data is: 0.43085384368896484 s\n",
      "Running time of DRE model on low dimensional data is: 0.21741843223571777 s\n"
     ]
    }
   ],
   "source": [
    "print(f'The estimated ATE for low dimensional data is: {DRE(full_low_dim)}')\n",
    "low_acc = abs(DRE(full_low_dim) - 2.5)/2.5 * 100\n",
    "print(f'Accuracy of ATE estimation of low dimensional data is: {low_acc}')\n",
    "l1_time_low = time.time() - start_time_l1_low \n",
    "print(f'Running time of L1 Logist Regression model on low dimensional data is: {l1_time_low} s')\n",
    "dre_time_low = time.time() - start_time_dre_low\n",
    "print(f'Running time of DRE model on low dimensional data is: {dre_time_low} s')\n"
   ]
  },
  {
   "cell_type": "markdown",
   "metadata": {},
   "source": [
    "###  High Dimensional data\n",
    "#### 1. Data processing \n",
    "#### 1.1 Create X and Y variables for L1 Logistic Regression \n"
   ]
  },
  {
   "cell_type": "code",
   "execution_count": 14,
   "metadata": {},
   "outputs": [],
   "source": [
    "highDim = pd.read_csv(r'../data/highDim_dataset.csv')\n",
    "X_high = highDim.drop(['A','Y'], axis = 1)\n",
    "y_high = highDim[['A']]\n"
   ]
  },
  {
   "cell_type": "markdown",
   "metadata": {},
   "source": [
    "#### 1.2 Split data into training and testing sets"
   ]
  },
  {
   "cell_type": "code",
   "execution_count": 15,
   "metadata": {},
   "outputs": [],
   "source": [
    "X_train_high, X_test_high, y_train_high, y_test_high = train_test_split(X_high, y_high, test_size=0.25, random_state=0)"
   ]
  },
  {
   "cell_type": "markdown",
   "metadata": {},
   "source": [
    "#### 1.3 Standardize features"
   ]
  },
  {
   "cell_type": "code",
   "execution_count": 16,
   "metadata": {},
   "outputs": [],
   "source": [
    "X_train_high_std = sc.fit_transform(X_train_high)\n",
    "X_test_high_std = sc.transform(X_test_high)"
   ]
  },
  {
   "cell_type": "markdown",
   "metadata": {},
   "source": [
    "#### 2. L1 penalized logistic regression \n",
    "#### 2.1 Parameter tunning "
   ]
  },
  {
   "cell_type": "code",
   "execution_count": 17,
   "metadata": {},
   "outputs": [
    {
     "name": "stderr",
     "output_type": "stream",
     "text": [
      "C:\\Users\\Yotam\\Anaconda3\\lib\\site-packages\\sklearn\\utils\\validation.py:72: DataConversionWarning: A column-vector y was passed when a 1d array was expected. Please change the shape of y to (n_samples, ), for example using ravel().\n",
      "  return f(**kwargs)\n"
     ]
    },
    {
     "name": "stdout",
     "output_type": "stream",
     "text": [
      "C: 0.06\n",
      "Training accuracy: 0.618\n",
      "Test accuracy: 0.606\n",
      "\n"
     ]
    },
    {
     "name": "stderr",
     "output_type": "stream",
     "text": [
      "C:\\Users\\Yotam\\Anaconda3\\lib\\site-packages\\sklearn\\utils\\validation.py:72: DataConversionWarning: A column-vector y was passed when a 1d array was expected. Please change the shape of y to (n_samples, ), for example using ravel().\n",
      "  return f(**kwargs)\n"
     ]
    },
    {
     "name": "stdout",
     "output_type": "stream",
     "text": [
      "C: 0.05\n",
      "Training accuracy: 0.614\n",
      "Test accuracy: 0.596\n",
      "\n"
     ]
    },
    {
     "name": "stderr",
     "output_type": "stream",
     "text": [
      "C:\\Users\\Yotam\\Anaconda3\\lib\\site-packages\\sklearn\\utils\\validation.py:72: DataConversionWarning: A column-vector y was passed when a 1d array was expected. Please change the shape of y to (n_samples, ), for example using ravel().\n",
      "  return f(**kwargs)\n"
     ]
    },
    {
     "name": "stdout",
     "output_type": "stream",
     "text": [
      "C: 0.04\n",
      "Training accuracy: 0.6053333333333333\n",
      "Test accuracy: 0.59\n",
      "\n"
     ]
    },
    {
     "name": "stderr",
     "output_type": "stream",
     "text": [
      "C:\\Users\\Yotam\\Anaconda3\\lib\\site-packages\\sklearn\\utils\\validation.py:72: DataConversionWarning: A column-vector y was passed when a 1d array was expected. Please change the shape of y to (n_samples, ), for example using ravel().\n",
      "  return f(**kwargs)\n"
     ]
    },
    {
     "name": "stdout",
     "output_type": "stream",
     "text": [
      "C: 0.03\n",
      "Training accuracy: 0.6086666666666667\n",
      "Test accuracy: 0.602\n",
      "\n",
      "C:"
     ]
    },
    {
     "name": "stderr",
     "output_type": "stream",
     "text": [
      "C:\\Users\\Yotam\\Anaconda3\\lib\\site-packages\\sklearn\\utils\\validation.py:72: DataConversionWarning: A column-vector y was passed when a 1d array was expected. Please change the shape of y to (n_samples, ), for example using ravel().\n",
      "  return f(**kwargs)\n",
      "C:\\Users\\Yotam\\Anaconda3\\lib\\site-packages\\sklearn\\utils\\validation.py:72: DataConversionWarning: A column-vector y was passed when a 1d array was expected. Please change the shape of y to (n_samples, ), for example using ravel().\n",
      "  return f(**kwargs)\n"
     ]
    },
    {
     "name": "stdout",
     "output_type": "stream",
     "text": [
      " 0.02\n",
      "Training accuracy: 0.604\n",
      "Test accuracy: 0.598\n",
      "\n",
      "C: 0.01\n",
      "Training accuracy: 0.5886666666666667\n",
      "Test accuracy: 0.596\n",
      "\n",
      "C: 0.008\n",
      "Training accuracy: 0.584\n",
      "Test accuracy: 0.604\n",
      "\n"
     ]
    },
    {
     "name": "stderr",
     "output_type": "stream",
     "text": [
      "C:\\Users\\Yotam\\Anaconda3\\lib\\site-packages\\sklearn\\utils\\validation.py:72: DataConversionWarning: A column-vector y was passed when a 1d array was expected. Please change the shape of y to (n_samples, ), for example using ravel().\n",
      "  return f(**kwargs)\n",
      "C:\\Users\\Yotam\\Anaconda3\\lib\\site-packages\\sklearn\\utils\\validation.py:72: DataConversionWarning: A column-vector y was passed when a 1d array was expected. Please change the shape of y to (n_samples, ), for example using ravel().\n",
      "  return f(**kwargs)\n"
     ]
    },
    {
     "name": "stdout",
     "output_type": "stream",
     "text": [
      "C: 0.005\n",
      "Training accuracy: 0.5826666666666667\n",
      "Test accuracy: 0.612\n",
      "\n",
      "C: 0.001\n",
      "Training accuracy: 0.5846666666666667\n",
      "Test accuracy: 0.496\n",
      "\n"
     ]
    },
    {
     "name": "stderr",
     "output_type": "stream",
     "text": [
      "C:\\Users\\Yotam\\Anaconda3\\lib\\site-packages\\sklearn\\utils\\validation.py:72: DataConversionWarning: A column-vector y was passed when a 1d array was expected. Please change the shape of y to (n_samples, ), for example using ravel().\n",
      "  return f(**kwargs)\n"
     ]
    }
   ],
   "source": [
    "C = [.06, .05, .04, .03, .02, .01, 0.008, 0.005, 0.001]\n",
    "\n",
    "for c in C:\n",
    "    clf = LogisticRegression(penalty='l1', C = c, solver = 'liblinear')\n",
    "    clf.fit(X_train_high, y_train_high)\n",
    "    print('C:', c)\n",
    "    print('Training accuracy:', clf.score(X_train_high_std, y_train_high))\n",
    "    print('Test accuracy:', clf.score(X_test_high_std, y_test_high))\n",
    "    print('')\n"
   ]
  },
  {
   "cell_type": "markdown",
   "metadata": {},
   "source": [
    "#### 2.2 Best model "
   ]
  },
  {
   "cell_type": "code",
   "execution_count": 18,
   "metadata": {},
   "outputs": [],
   "source": [
    "# Best: C = 0.06\n",
    "start_time_l1_high = time.time()\n",
    "clf_high = LogisticRegression(penalty='l1', C = 0.06, solver = 'liblinear')"
   ]
  },
  {
   "cell_type": "markdown",
   "metadata": {},
   "source": [
    "#### 2.3 Calculate propensity scores"
   ]
  },
  {
   "cell_type": "code",
   "execution_count": 19,
   "metadata": {},
   "outputs": [],
   "source": [
    "clf_high.fit(X_high, y_high.values.ravel())\n",
    "ps_high=clf_high.predict_proba(X_high)[:, 1]"
   ]
  },
  {
   "cell_type": "markdown",
   "metadata": {},
   "source": [
    "#### 3. Doubly Robust Estimation Algorithm to calculate ATE"
   ]
  },
  {
   "cell_type": "code",
   "execution_count": 20,
   "metadata": {},
   "outputs": [],
   "source": [
    "full_high_dim= highDim.copy()\n",
    "full_high_dim['PS']=pd.Series(ps_high, index=full_high_dim.index)"
   ]
  },
  {
   "cell_type": "code",
   "execution_count": 21,
   "metadata": {},
   "outputs": [],
   "source": [
    "# deviding the high dimensional data into treated and control groups\n",
    "highDim_treated = highDim[highDim['A'] == 1]\n",
    "highDim_treated = highDim_treated.reset_index(drop = True)\n",
    "\n",
    "highDim_control = highDim[highDim['A'] == 0]\n",
    "highDim_control = highDim_control.reset_index(drop = True)\n",
    "\n",
    "\n",
    "# Fit a regression model to get the estimation of y given T=1 and X \n",
    "X1_high_treated = highDim_treated.drop(['Y'], axis = 1)\n",
    "y_high_treated = highDim_treated['Y']\n",
    "lr_high_treated = LinearRegression().fit(X1_high_treated, y_high_treated)\n",
    "\n",
    "\n",
    "# Fit a regression model to get the estimation of y given T=0 and X \n",
    "X1_high_control = highDim_control.drop(['Y'], axis = 1)\n",
    "y_high_control = highDim_control['Y']\n",
    "lr_high_control = LinearRegression().fit(X1_high_control, y_high_control)"
   ]
  },
  {
   "cell_type": "code",
   "execution_count": 22,
   "metadata": {},
   "outputs": [],
   "source": [
    "X_high_new = full_high_dim.drop(['Y','PS'], axis = 1)\n",
    "m1_high= lr_high_treated.predict(X_high_new)\n",
    "m0_high= lr_high_control.predict(X_high_new)\n",
    "full_high_dim['m1'] = pd.Series(m1_high, index = full_high_dim.index)\n",
    "full_high_dim['m0'] = pd.Series(m0_high, index = full_high_dim.index)"
   ]
  },
  {
   "cell_type": "code",
   "execution_count": 23,
   "metadata": {},
   "outputs": [
    {
     "data": {
      "text/plain": [
       "-3.097056214874587"
      ]
     },
     "execution_count": 23,
     "metadata": {},
     "output_type": "execute_result"
    }
   ],
   "source": [
    "start_time_dre_high = time.time()\n",
    "DRE(full_high_dim)"
   ]
  },
  {
   "cell_type": "code",
   "execution_count": 24,
   "metadata": {},
   "outputs": [
    {
     "name": "stdout",
     "output_type": "stream",
     "text": [
      "The estimated ATE for low dimensional data is: -3.097056214874587\n",
      "Accuracy of ATE estimation of low dimensional data is: 3.2352071624862275\n",
      "Running time of L1 Logist Regression model on low dimensional data is: 1.397301435470581 s\n",
      "Running time of DRE model on low dimensional data is: 0.6203784942626953 s\n"
     ]
    }
   ],
   "source": [
    "print(f'The estimated ATE for low dimensional data is: {DRE(full_high_dim)}')\n",
    "high_acc = (DRE(full_high_dim) - (-3))/(-3) * 100\n",
    "print(f'Accuracy of ATE estimation of low dimensional data is: {high_acc}')\n",
    "l1_time_high = time.time() - start_time_l1_high \n",
    "print(f'Running time of L1 Logist Regression model on low dimensional data is: {l1_time_high} s')\n",
    "dre_time_high = time.time() - start_time_dre_high\n",
    "print(f'Running time of DRE model on low dimensional data is: {dre_time_high} s')\n"
   ]
  },
  {
   "cell_type": "markdown",
   "metadata": {},
   "source": [
    "### Summary Table "
   ]
  },
  {
   "cell_type": "code",
   "execution_count": 25,
   "metadata": {},
   "outputs": [],
   "source": [
    "summary_table = pd.DataFrame(np.array([[l1_time_low, dre_time_low,low_acc], [l1_time_high, dre_time_high,high_acc]]),\n",
    "                   columns=['l1 running time', 'DRE running time', 'Accuracy of ATE'],\n",
    "                            index=['low dim','high dim'])\n"
   ]
  },
  {
   "cell_type": "code",
   "execution_count": 26,
   "metadata": {},
   "outputs": [
    {
     "data": {
      "text/html": [
       "<div>\n",
       "<style scoped>\n",
       "    .dataframe tbody tr th:only-of-type {\n",
       "        vertical-align: middle;\n",
       "    }\n",
       "\n",
       "    .dataframe tbody tr th {\n",
       "        vertical-align: top;\n",
       "    }\n",
       "\n",
       "    .dataframe thead th {\n",
       "        text-align: right;\n",
       "    }\n",
       "</style>\n",
       "<table border=\"1\" class=\"dataframe\">\n",
       "  <thead>\n",
       "    <tr style=\"text-align: right;\">\n",
       "      <th></th>\n",
       "      <th>l1 running time</th>\n",
       "      <th>DRE running time</th>\n",
       "      <th>Accuracy of ATE</th>\n",
       "    </tr>\n",
       "  </thead>\n",
       "  <tbody>\n",
       "    <tr>\n",
       "      <th>low dim</th>\n",
       "      <td>0.430854</td>\n",
       "      <td>0.217418</td>\n",
       "      <td>3.833774</td>\n",
       "    </tr>\n",
       "    <tr>\n",
       "      <th>high dim</th>\n",
       "      <td>1.397301</td>\n",
       "      <td>0.620378</td>\n",
       "      <td>3.235207</td>\n",
       "    </tr>\n",
       "  </tbody>\n",
       "</table>\n",
       "</div>"
      ],
      "text/plain": [
       "          l1 running time  DRE running time  Accuracy of ATE\n",
       "low dim          0.430854          0.217418         3.833774\n",
       "high dim         1.397301          0.620378         3.235207"
      ]
     },
     "execution_count": 26,
     "metadata": {},
     "output_type": "execute_result"
    }
   ],
   "source": [
    "summary_table"
   ]
  },
  {
   "cell_type": "code",
   "execution_count": null,
   "metadata": {},
   "outputs": [],
   "source": []
  }
 ],
 "metadata": {
  "kernelspec": {
   "display_name": "Python 3",
   "language": "python",
   "name": "python3"
  },
  "language_info": {
   "codemirror_mode": {
    "name": "ipython",
    "version": 3
   },
   "file_extension": ".py",
   "mimetype": "text/x-python",
   "name": "python",
   "nbconvert_exporter": "python",
   "pygments_lexer": "ipython3",
   "version": "3.7.4"
  }
 },
 "nbformat": 4,
 "nbformat_minor": 4
}

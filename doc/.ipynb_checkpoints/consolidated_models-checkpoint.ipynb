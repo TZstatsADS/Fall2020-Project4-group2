{
 "cells": [
  {
   "cell_type": "markdown",
   "metadata": {},
   "source": [
    "This Notebook contains the code for all the methods we used for this project.\n",
    "\n",
    "The models are ordered in the following way:\n",
    "1. Regression Estimate\n",
    "2. Doubly Robust Estimation\n",
    "3. Propensity Matching with Linear Propensity Score\n",
    "\n",
    "Each model contains two analysis for both High and Low Dimension data.\n",
    "At the end of this Notebook the reader will find a comparison table for the methods."
   ]
  },
  {
   "cell_type": "code",
   "execution_count": 1,
   "metadata": {},
   "outputs": [],
   "source": [
    "# importing packages used in this Notebook\n",
    "\n",
    "import pandas as pd\n",
    "import numpy as np\n",
    "import time\n",
    "from sklearn.linear_model import LinearRegression\n",
    "from sklearn.linear_model import LogisticRegression\n",
    "from sklearn.model_selection import train_test_split\n",
    "from sklearn.preprocessing import StandardScaler\n",
    "import statsmodels.api as sm"
   ]
  },
  {
   "cell_type": "code",
   "execution_count": 2,
   "metadata": {},
   "outputs": [],
   "source": [
    "# real ATE are given:\n",
    "\n",
    "real_low = 2.5\n",
    "real_high = -3"
   ]
  },
  {
   "cell_type": "markdown",
   "metadata": {},
   "source": [
    "# Regression Estimate"
   ]
  },
  {
   "cell_type": "code",
   "execution_count": 3,
   "metadata": {},
   "outputs": [
    {
     "data": {
      "text/plain": [
       "(0, 0, (475, 24), (2000, 187))"
      ]
     },
     "execution_count": 3,
     "metadata": {},
     "output_type": "execute_result"
    }
   ],
   "source": [
    "# loading data\n",
    "\n",
    "low_dim = pd.read_csv('..\\data\\lowDim_dataset.csv')\n",
    "high_dim = pd.read_csv('..\\data\\highDim_dataset.csv')\n",
    "\n",
    "# inspecting data\n",
    "\n",
    "low_dim.isna().sum().sum(),high_dim.isna().sum().sum(),low_dim.shape, high_dim.shape"
   ]
  },
  {
   "cell_type": "markdown",
   "metadata": {},
   "source": [
    "## Low Dimension"
   ]
  },
  {
   "cell_type": "code",
   "execution_count": 4,
   "metadata": {},
   "outputs": [
    {
     "data": {
      "text/plain": [
       "(363, 112)"
      ]
     },
     "execution_count": 4,
     "metadata": {},
     "output_type": "execute_result"
    }
   ],
   "source": [
    "# starting to measure run time for low dimension\n",
    "\n",
    "start_time_low = time.time()\n",
    "\n",
    "# deviding the data into treated and control groups\n",
    "\n",
    "low_dim_treated = low_dim[low_dim['A'] == 1]\n",
    "low_dim_treated = low_dim_treated.reset_index(drop = True)\n",
    "\n",
    "low_dim_control = low_dim[low_dim['A'] == 0]\n",
    "low_dim_control = low_dim_control.reset_index(drop = True)\n",
    "\n",
    "# inspecting sizes:\n",
    "\n",
    "len(low_dim_control), len(low_dim_treated)"
   ]
  },
  {
   "cell_type": "code",
   "execution_count": 5,
   "metadata": {},
   "outputs": [],
   "source": [
    "# running a regression for the treated group:\n",
    "\n",
    "lr = LinearRegression()\n",
    "X, y = low_dim_treated.iloc[:,2:], low_dim_treated.iloc[:,0]\n",
    "lr.fit(X, y)\n",
    "LinearRegression(copy_X=True, fit_intercept=True, normalize=False)\n",
    "coef_treated_low = lr.coef_\n",
    "intercept_treated_low =lr.intercept_"
   ]
  },
  {
   "cell_type": "code",
   "execution_count": 6,
   "metadata": {},
   "outputs": [],
   "source": [
    "# running a regression for the control group:\n",
    "\n",
    "lr = LinearRegression()\n",
    "X, y = low_dim_control.iloc[:,2:], low_dim_control.iloc[:,0]\n",
    "lr.fit(X, y)\n",
    "LinearRegression(copy_X=True, fit_intercept=True, normalize=False)\n",
    "coef_control_low = lr.coef_\n",
    "intercept_control_low =lr.intercept_"
   ]
  },
  {
   "cell_type": "code",
   "execution_count": 7,
   "metadata": {},
   "outputs": [],
   "source": [
    "# calculating fitted y's for both treated and control groups\n",
    "\n",
    "fitted_y_treated_low = low_dim.iloc[:,2:].transpose().multiply(coef_treated_low, axis =0).sum() + intercept_treated_low\n",
    "fitted_y_control_low = low_dim.iloc[:,2:].transpose().multiply(coef_control_low, axis =0).sum() + intercept_control_low"
   ]
  },
  {
   "cell_type": "code",
   "execution_count": 8,
   "metadata": {},
   "outputs": [],
   "source": [
    "# calculating the difference b.w the treatment and control group\n",
    "\n",
    "ate_low = (fitted_y_treated_low - fitted_y_control_low).mean()\n",
    "# measuring accuracy:\n",
    "\n",
    "accuracy_low = real_low - ate_low\n",
    "# stopping the clock:\n",
    "\n",
    "run_time_low = time.time() - start_time_low"
   ]
  },
  {
   "cell_type": "markdown",
   "metadata": {},
   "source": [
    "## High Dimension"
   ]
  },
  {
   "cell_type": "code",
   "execution_count": 9,
   "metadata": {},
   "outputs": [
    {
     "data": {
      "text/plain": [
       "(1103, 897)"
      ]
     },
     "execution_count": 9,
     "metadata": {},
     "output_type": "execute_result"
    }
   ],
   "source": [
    "# starting to measure run time for low dimension\n",
    "\n",
    "start_time_high = time.time()\n",
    "\n",
    "# deviding the data into treated and control groups\n",
    "\n",
    "high_dim_treated = high_dim[high_dim['A'] == 1]\n",
    "high_dim_treated = high_dim_treated.reset_index(drop = True)\n",
    "\n",
    "high_dim_control = high_dim[high_dim['A'] == 0]\n",
    "high_dim_control = high_dim_control.reset_index(drop = True)\n",
    "\n",
    "# inspecting sizes:\n",
    "\n",
    "len(high_dim_control), len(high_dim_treated)"
   ]
  },
  {
   "cell_type": "code",
   "execution_count": 10,
   "metadata": {},
   "outputs": [],
   "source": [
    "# running a regression for the treated group:\n",
    "\n",
    "lr = LinearRegression()\n",
    "X, y = high_dim_treated.iloc[:,2:], high_dim_treated.iloc[:,0]\n",
    "lr.fit(X, y)\n",
    "LinearRegression(copy_X=True, fit_intercept=True, normalize=False)\n",
    "coef_treated_high = lr.coef_\n",
    "intercept_treated_high =lr.intercept_"
   ]
  },
  {
   "cell_type": "code",
   "execution_count": 11,
   "metadata": {},
   "outputs": [],
   "source": [
    "# running a regression for the control group:\n",
    "\n",
    "lr = LinearRegression()\n",
    "X, y = high_dim_control.iloc[:,2:], high_dim_control.iloc[:,0]\n",
    "lr.fit(X, y)\n",
    "LinearRegression(copy_X=True, fit_intercept=True, normalize=False)\n",
    "coef_control_high = lr.coef_\n",
    "intercept_control_high =lr.intercept_"
   ]
  },
  {
   "cell_type": "code",
   "execution_count": 12,
   "metadata": {},
   "outputs": [],
   "source": [
    "# calculating fitted y's for both treated and control groups\n",
    "\n",
    "fitted_y_treated_high = high_dim.iloc[:,2:].transpose().multiply(coef_treated_high, axis =0).sum() + intercept_treated_high\n",
    "fitted_y_control_high = high_dim.iloc[:,2:].transpose().multiply(coef_control_high, axis =0).sum() + intercept_control_high"
   ]
  },
  {
   "cell_type": "code",
   "execution_count": 13,
   "metadata": {},
   "outputs": [],
   "source": [
    "# calculating the difference b.w the treatment and control group\n",
    "\n",
    "ate_high = (fitted_y_treated_high - fitted_y_control_high).mean()\n",
    "# measuring accuracy\n",
    "\n",
    "accuracy_high = real_high - ate_high\n",
    "# stopping clock\n",
    "\n",
    "run_time_high = time.time() - start_time_high"
   ]
  },
  {
   "cell_type": "markdown",
   "metadata": {},
   "source": [
    "## Results"
   ]
  },
  {
   "cell_type": "code",
   "execution_count": 14,
   "metadata": {},
   "outputs": [
    {
     "data": {
      "text/html": [
       "<div>\n",
       "<style scoped>\n",
       "    .dataframe tbody tr th:only-of-type {\n",
       "        vertical-align: middle;\n",
       "    }\n",
       "\n",
       "    .dataframe tbody tr th {\n",
       "        vertical-align: top;\n",
       "    }\n",
       "\n",
       "    .dataframe thead th {\n",
       "        text-align: right;\n",
       "    }\n",
       "</style>\n",
       "<table border=\"1\" class=\"dataframe\">\n",
       "  <thead>\n",
       "    <tr style=\"text-align: right;\">\n",
       "      <th></th>\n",
       "      <th></th>\n",
       "      <th>run_time</th>\n",
       "      <th>ate</th>\n",
       "      <th>accuracy</th>\n",
       "    </tr>\n",
       "    <tr>\n",
       "      <th>method</th>\n",
       "      <th></th>\n",
       "      <th></th>\n",
       "      <th></th>\n",
       "      <th></th>\n",
       "    </tr>\n",
       "  </thead>\n",
       "  <tbody>\n",
       "    <tr>\n",
       "      <th rowspan=\"2\" valign=\"top\">regression_estimate</th>\n",
       "      <th>low</th>\n",
       "      <td>0.078</td>\n",
       "      <td>2.527</td>\n",
       "      <td>-0.027</td>\n",
       "    </tr>\n",
       "    <tr>\n",
       "      <th>high</th>\n",
       "      <td>0.159</td>\n",
       "      <td>-2.960</td>\n",
       "      <td>-0.040</td>\n",
       "    </tr>\n",
       "  </tbody>\n",
       "</table>\n",
       "</div>"
      ],
      "text/plain": [
       "                          run_time    ate  accuracy\n",
       "method                                             \n",
       "regression_estimate low      0.078  2.527    -0.027\n",
       "                    high     0.159 -2.960    -0.040"
      ]
     },
     "execution_count": 14,
     "metadata": {},
     "output_type": "execute_result"
    }
   ],
   "source": [
    "# building a df for the results:\n",
    "\n",
    "regression_estimate_low = pd.Series(data = [run_time_low, ate_low, accuracy_low], \n",
    "                                   index = ['run_time','ate','accuracy']).rename('low')\n",
    "regression_estimate_high = pd.Series(data = [run_time_high, ate_high, accuracy_high], \n",
    "                                     index = ['run_time','ate', 'accuracy']).rename('high')\n",
    "results_regression_estimate = pd.DataFrame([regression_estimate_low, regression_estimate_high]).round(3)\n",
    "results_regression_estimate = pd.concat({'regression_estimate': results_regression_estimate}, names=['method'])\n",
    "results_regression_estimate"
   ]
  },
  {
   "cell_type": "markdown",
   "metadata": {},
   "source": [
    "# Doubly Robust Estimation"
   ]
  },
  {
   "cell_type": "markdown",
   "metadata": {},
   "source": [
    "## Low Dimension"
   ]
  },
  {
   "cell_type": "markdown",
   "metadata": {},
   "source": [
    "## High Dimension"
   ]
  },
  {
   "cell_type": "markdown",
   "metadata": {},
   "source": [
    "# PSM"
   ]
  },
  {
   "cell_type": "code",
   "execution_count": 15,
   "metadata": {},
   "outputs": [],
   "source": [
    "X_high = high_dim.drop(['A','Y'], axis = 1)\n",
    "X_low = low_dim.drop(['A','Y'], axis = 1)\n",
    "\n",
    "y_high = high_dim[['A']]\n",
    "y_low = low_dim[['A']]"
   ]
  },
  {
   "cell_type": "code",
   "execution_count": 16,
   "metadata": {},
   "outputs": [],
   "source": [
    "def best_para(data, C):\n",
    "    X=data.drop(['A','Y'], axis = 1)\n",
    "    y=data[['A']]\n",
    "    diff=[]\n",
    "    for c in C:\n",
    "        clf = LogisticRegression(penalty='l1', C = c, solver = 'liblinear')\n",
    "        clf.fit(X, y.values.ravel())\n",
    "        ps_logit=clf.predict_log_proba(X)[:, 1]\n",
    "        data['log_ps']=ps_logit\n",
    "        treated=data[data['A']==1]\n",
    "        control=data[data['A']==0]\n",
    "        di=max(treated['log_ps'])-min(treated['log_ps'])\n",
    "        dj=max(control['log_ps'])-min(control['log_ps'])\n",
    "        diff.append(abs(di-dj))\n",
    "    best_ind=diff.index(min(diff))\n",
    "    best_c=C[best_ind]\n",
    "    best_diff=diff[best_ind]\n",
    "    return best_c, best_diff"
   ]
  },
  {
   "cell_type": "code",
   "execution_count": 17,
   "metadata": {},
   "outputs": [],
   "source": [
    "def PSM(treated_df, control_df):\n",
    "    \n",
    "    treated_df.loc[:,'group']=None\n",
    "    treated_df.loc[:,'control_Y']=None\n",
    "    \n",
    "    for i in range(len(treated_df)):\n",
    "        diff_i=[]\n",
    "        for j in range(len(control_df)):\n",
    "            diff_i.append(abs(control_df.loc[j,'log_ps']-treated_df.loc[i,'log_ps']))\n",
    "\n",
    "        ind_j=diff_i.index(min(diff_i))\n",
    "        r=(max(diff_i)-min(diff_i))/5\n",
    "        treated_df.loc[i,'control_Y']=control_df.loc[ind_j,'Y']\n",
    "        if min(diff_i)<r:\n",
    "            treated_df.loc[i,'group']=1\n",
    "        elif min(diff_i)>=r and min(diff_i)<r*2:\n",
    "            treated_df.loc[i,'group']=2\n",
    "        elif min(diff_i)>=r*2 and min(diff_i)<r*3:\n",
    "            treated_df.loc[i,'group']=3\n",
    "        elif min(diff_i)>=r*3 and min(diff_i)<r*4:\n",
    "            treated_df.loc[i,'group']=4\n",
    "        else:\n",
    "            treated_df.loc[i,'group']=5\n",
    "    \n",
    "    ATE=0\n",
    "    for k in range(treated_df.loc[:,'group'].max()):\n",
    "        group=treated_df[treated_df.loc[:,'group']==k+1]\n",
    "        ATE=ATE+(group.loc[:,'Y']-group.loc[:,'control_Y']).mean()*len(group)/len(treated_df)\n",
    "    \n",
    "    return ATE"
   ]
  },
  {
   "cell_type": "markdown",
   "metadata": {},
   "source": [
    "## Low Dimension"
   ]
  },
  {
   "cell_type": "code",
   "execution_count": 18,
   "metadata": {},
   "outputs": [],
   "source": [
    "start_low = time.time()\n",
    "clf_low = LogisticRegression(penalty='l1', C = 0.2, solver = 'liblinear')\n",
    "clf_low.fit(X_low, y_low.values.ravel())\n",
    "ps_logit_low = clf_low.predict_log_proba(X_low)[:, 1]\n",
    "low_dim['log_ps']=ps_logit_low"
   ]
  },
  {
   "cell_type": "code",
   "execution_count": 19,
   "metadata": {},
   "outputs": [],
   "source": [
    "treated_low = low_dim[low_dim['A']==1]\n",
    "treated_low = treated_low.reset_index(drop = True)\n",
    "control_low = low_dim[low_dim['A']==0]\n",
    "control_low = control_low.reset_index(drop = True)\n",
    "\n",
    "ate_psm_low = PSM(treated_low, control_low)\n",
    "run_time_psm_low = time.time()-start_low\n",
    "accuracy_psm_low = real_low - ate_psm_low\n"
   ]
  },
  {
   "cell_type": "markdown",
   "metadata": {},
   "source": [
    "## High Dimension"
   ]
  },
  {
   "cell_type": "code",
   "execution_count": 20,
   "metadata": {},
   "outputs": [],
   "source": [
    "start_high = time.time()\n",
    "clf_high = LogisticRegression(penalty='l1', C = 0.5, solver = 'liblinear')\n",
    "clf_high.fit(X_high, y_high.values.ravel())\n",
    "ps_logit_high = clf_high.predict_log_proba(X_high)[:, 1]\n",
    "high_dim['log_ps']=ps_logit_high"
   ]
  },
  {
   "cell_type": "code",
   "execution_count": 21,
   "metadata": {},
   "outputs": [],
   "source": [
    "treated_high = high_dim[high_dim['A']==1]\n",
    "treated_high = treated_high.reset_index(drop = True)\n",
    "control_high = high_dim[high_dim['A']==0]\n",
    "control_high = control_high.reset_index(drop = True)\n",
    "\n",
    "ate_psm_high = PSM(treated_high, control_high)\n",
    "accuracy_psm_high = real_high - ate_psm_high\n",
    "run_time_psm_high = time.time()-start_high\n"
   ]
  },
  {
   "cell_type": "markdown",
   "metadata": {},
   "source": [
    "## Results"
   ]
  },
  {
   "cell_type": "code",
   "execution_count": 22,
   "metadata": {},
   "outputs": [
    {
     "data": {
      "text/html": [
       "<div>\n",
       "<style scoped>\n",
       "    .dataframe tbody tr th:only-of-type {\n",
       "        vertical-align: middle;\n",
       "    }\n",
       "\n",
       "    .dataframe tbody tr th {\n",
       "        vertical-align: top;\n",
       "    }\n",
       "\n",
       "    .dataframe thead th {\n",
       "        text-align: right;\n",
       "    }\n",
       "</style>\n",
       "<table border=\"1\" class=\"dataframe\">\n",
       "  <thead>\n",
       "    <tr style=\"text-align: right;\">\n",
       "      <th></th>\n",
       "      <th></th>\n",
       "      <th>run_time</th>\n",
       "      <th>ate</th>\n",
       "      <th>accuracy</th>\n",
       "    </tr>\n",
       "    <tr>\n",
       "      <th>method</th>\n",
       "      <th></th>\n",
       "      <th></th>\n",
       "      <th></th>\n",
       "      <th></th>\n",
       "    </tr>\n",
       "  </thead>\n",
       "  <tbody>\n",
       "    <tr>\n",
       "      <th rowspan=\"2\" valign=\"top\">psm</th>\n",
       "      <th>low</th>\n",
       "      <td>0.954</td>\n",
       "      <td>2.506</td>\n",
       "      <td>-0.006</td>\n",
       "    </tr>\n",
       "    <tr>\n",
       "      <th>high</th>\n",
       "      <td>31.696</td>\n",
       "      <td>-3.270</td>\n",
       "      <td>0.270</td>\n",
       "    </tr>\n",
       "  </tbody>\n",
       "</table>\n",
       "</div>"
      ],
      "text/plain": [
       "             run_time    ate  accuracy\n",
       "method                                \n",
       "psm    low      0.954  2.506    -0.006\n",
       "       high    31.696 -3.270     0.270"
      ]
     },
     "execution_count": 22,
     "metadata": {},
     "output_type": "execute_result"
    }
   ],
   "source": [
    "# building a df for psm results:\n",
    "\n",
    "psm_low = pd.Series(data = [run_time_psm_low, ate_psm_low, accuracy_psm_low], \n",
    "                                   index = ['run_time','ate','accuracy']).rename('low')\n",
    "\n",
    "psm_high = pd.Series(data = [run_time_psm_high, ate_psm_high, accuracy_psm_high], \n",
    "                                     index = ['run_time','ate', 'accuracy']).rename('high')\n",
    "results_psm = pd.DataFrame([psm_low, psm_high]).round(3)\n",
    "results_psm = pd.concat({'psm': results_psm}, names=['method'])\n",
    "\n",
    "results_psm"
   ]
  },
  {
   "cell_type": "markdown",
   "metadata": {},
   "source": [
    "# Methods Comparison"
   ]
  },
  {
   "cell_type": "code",
   "execution_count": 30,
   "metadata": {},
   "outputs": [],
   "source": [
    "results_final = pd.concat([results_regression_estimate, results_psm]).round(3)\n",
    "results_final['accuracy'] = results_final['accuracy'].abs()"
   ]
  },
  {
   "cell_type": "code",
   "execution_count": 34,
   "metadata": {},
   "outputs": [
    {
     "data": {
      "text/html": [
       "<div>\n",
       "<style scoped>\n",
       "    .dataframe tbody tr th:only-of-type {\n",
       "        vertical-align: middle;\n",
       "    }\n",
       "\n",
       "    .dataframe tbody tr th {\n",
       "        vertical-align: top;\n",
       "    }\n",
       "\n",
       "    .dataframe thead th {\n",
       "        text-align: right;\n",
       "    }\n",
       "</style>\n",
       "<table border=\"1\" class=\"dataframe\">\n",
       "  <thead>\n",
       "    <tr style=\"text-align: right;\">\n",
       "      <th></th>\n",
       "      <th></th>\n",
       "      <th>run_time</th>\n",
       "      <th>ate</th>\n",
       "      <th>accuracy</th>\n",
       "    </tr>\n",
       "    <tr>\n",
       "      <th>method</th>\n",
       "      <th></th>\n",
       "      <th></th>\n",
       "      <th></th>\n",
       "      <th></th>\n",
       "    </tr>\n",
       "  </thead>\n",
       "  <tbody>\n",
       "    <tr>\n",
       "      <th rowspan=\"2\" valign=\"top\">regression_estimate</th>\n",
       "      <th>low</th>\n",
       "      <td>0.078</td>\n",
       "      <td>2.527</td>\n",
       "      <td>0.027</td>\n",
       "    </tr>\n",
       "    <tr>\n",
       "      <th>high</th>\n",
       "      <td>0.159</td>\n",
       "      <td>-2.960</td>\n",
       "      <td>0.040</td>\n",
       "    </tr>\n",
       "    <tr>\n",
       "      <th rowspan=\"2\" valign=\"top\">psm</th>\n",
       "      <th>low</th>\n",
       "      <td>0.954</td>\n",
       "      <td>2.506</td>\n",
       "      <td>0.006</td>\n",
       "    </tr>\n",
       "    <tr>\n",
       "      <th>high</th>\n",
       "      <td>31.696</td>\n",
       "      <td>-3.270</td>\n",
       "      <td>0.270</td>\n",
       "    </tr>\n",
       "  </tbody>\n",
       "</table>\n",
       "</div>"
      ],
      "text/plain": [
       "                          run_time    ate  accuracy\n",
       "method                                             \n",
       "regression_estimate low      0.078  2.527     0.027\n",
       "                    high     0.159 -2.960     0.040\n",
       "psm                 low      0.954  2.506     0.006\n",
       "                    high    31.696 -3.270     0.270"
      ]
     },
     "execution_count": 34,
     "metadata": {},
     "output_type": "execute_result"
    }
   ],
   "source": [
    "results_final"
   ]
  },
  {
   "cell_type": "code",
   "execution_count": null,
   "metadata": {},
   "outputs": [],
   "source": []
  }
 ],
 "metadata": {
  "kernelspec": {
   "display_name": "Python 3",
   "language": "python",
   "name": "python3"
  },
  "language_info": {
   "codemirror_mode": {
    "name": "ipython",
    "version": 3
   },
   "file_extension": ".py",
   "mimetype": "text/x-python",
   "name": "python",
   "nbconvert_exporter": "python",
   "pygments_lexer": "ipython3",
   "version": "3.7.4"
  }
 },
 "nbformat": 4,
 "nbformat_minor": 4
}

{
 "cells": [
  {
   "cell_type": "markdown",
   "metadata": {},
   "source": [
    "This Notebook contains the code for all the methods we used for this project.\n",
    "\n",
    "The models are ordered in the following way:\n",
    "1. Regression Estimate\n",
    "2. Doubly Robust Estimation\n",
    "3. Propensity Matching with Linear Propensity Score\n",
    "\n",
    "Each model contains two analysis for both High and Low Dimension data.\n",
    "At the end of this Notebook the reader will find a comparison table for the methods."
   ]
  },
  {
   "cell_type": "code",
   "execution_count": 1,
   "metadata": {},
   "outputs": [],
   "source": [
    "# importing packages used in this Notebook\n",
    "\n",
    "import pandas as pd\n",
    "import numpy as np\n",
    "import time\n",
    "from sklearn.linear_model import LinearRegression\n",
    "from sklearn.linear_model import LogisticRegression\n",
    "from sklearn.model_selection import train_test_split\n",
    "from sklearn.preprocessing import StandardScaler\n",
    "import statsmodels.api as sm"
   ]
  },
  {
   "cell_type": "code",
   "execution_count": 2,
   "metadata": {},
   "outputs": [],
   "source": [
    "# real ATE are given:\n",
    "\n",
    "real_low = 2.5\n",
    "real_high = -3"
   ]
  },
  {
   "cell_type": "markdown",
   "metadata": {},
   "source": [
    "# Regression Estimate"
   ]
  },
  {
   "cell_type": "code",
   "execution_count": 3,
   "metadata": {},
   "outputs": [
    {
     "data": {
      "text/plain": [
       "(0, 0, (475, 24), (2000, 187))"
      ]
     },
     "execution_count": 3,
     "metadata": {},
     "output_type": "execute_result"
    }
   ],
   "source": [
    "# loading data\n",
    "\n",
    "low_dim = pd.read_csv('..\\data\\lowDim_dataset.csv')\n",
    "high_dim = pd.read_csv('..\\data\\highDim_dataset.csv')\n",
    "\n",
    "# inspecting data\n",
    "\n",
    "low_dim.isna().sum().sum(),high_dim.isna().sum().sum(),low_dim.shape, high_dim.shape"
   ]
  },
  {
   "cell_type": "markdown",
   "metadata": {},
   "source": [
    "## Low Dimension"
   ]
  },
  {
   "cell_type": "code",
   "execution_count": 4,
   "metadata": {},
   "outputs": [
    {
     "data": {
      "text/plain": [
       "(363, 112)"
      ]
     },
     "execution_count": 4,
     "metadata": {},
     "output_type": "execute_result"
    }
   ],
   "source": [
    "# starting to measure run time for low dimension\n",
    "\n",
    "start_time_low = time.time()\n",
    "\n",
    "# deviding the data into treated and control groups\n",
    "\n",
    "low_dim_treated = low_dim[low_dim['A'] == 1]\n",
    "low_dim_treated = low_dim_treated.reset_index(drop = True)\n",
    "\n",
    "low_dim_control = low_dim[low_dim['A'] == 0]\n",
    "low_dim_control = low_dim_control.reset_index(drop = True)\n",
    "\n",
    "# inspecting sizes:\n",
    "\n",
    "len(low_dim_control), len(low_dim_treated)"
   ]
  },
  {
   "cell_type": "code",
   "execution_count": 5,
   "metadata": {},
   "outputs": [],
   "source": [
    "# running a regression for the treated group:\n",
    "\n",
    "lr = LinearRegression()\n",
    "X, y = low_dim_treated.iloc[:,2:], low_dim_treated.iloc[:,0]\n",
    "lr.fit(X, y)\n",
    "LinearRegression(copy_X=True, fit_intercept=True, normalize=False)\n",
    "coef_treated_low = lr.coef_\n",
    "intercept_treated_low =lr.intercept_"
   ]
  },
  {
   "cell_type": "code",
   "execution_count": 6,
   "metadata": {},
   "outputs": [],
   "source": [
    "# running a regression for the control group:\n",
    "\n",
    "lr = LinearRegression()\n",
    "X, y = low_dim_control.iloc[:,2:], low_dim_control.iloc[:,0]\n",
    "lr.fit(X, y)\n",
    "LinearRegression(copy_X=True, fit_intercept=True, normalize=False)\n",
    "coef_control_low = lr.coef_\n",
    "intercept_control_low =lr.intercept_"
   ]
  },
  {
   "cell_type": "code",
   "execution_count": 7,
   "metadata": {},
   "outputs": [],
   "source": [
    "# calculating fitted y's for both treated and control groups\n",
    "\n",
    "fitted_y_treated_low = low_dim.iloc[:,2:].transpose().multiply(coef_treated_low, axis =0).sum() + intercept_treated_low\n",
    "fitted_y_control_low = low_dim.iloc[:,2:].transpose().multiply(coef_control_low, axis =0).sum() + intercept_control_low"
   ]
  },
  {
   "cell_type": "code",
   "execution_count": 8,
   "metadata": {},
   "outputs": [],
   "source": [
    "# calculating the difference b.w the treatment and control group\n",
    "\n",
    "ate_low = (fitted_y_treated_low - fitted_y_control_low).mean()\n",
    "# measuring accuracy:\n",
    "\n",
    "accuracy_low = real_low - ate_low\n",
    "# stopping the clock:\n",
    "\n",
    "run_time_low = time.time() - start_time_low"
   ]
  },
  {
   "cell_type": "markdown",
   "metadata": {},
   "source": [
    "## High Dimension"
   ]
  },
  {
   "cell_type": "code",
   "execution_count": 9,
   "metadata": {},
   "outputs": [
    {
     "data": {
      "text/plain": [
       "(1103, 897)"
      ]
     },
     "execution_count": 9,
     "metadata": {},
     "output_type": "execute_result"
    }
   ],
   "source": [
    "# starting to measure run time for low dimension\n",
    "\n",
    "start_time_high = time.time()\n",
    "\n",
    "# deviding the data into treated and control groups\n",
    "\n",
    "high_dim_treated = high_dim[high_dim['A'] == 1]\n",
    "high_dim_treated = high_dim_treated.reset_index(drop = True)\n",
    "\n",
    "high_dim_control = high_dim[high_dim['A'] == 0]\n",
    "high_dim_control = high_dim_control.reset_index(drop = True)\n",
    "\n",
    "# inspecting sizes:\n",
    "\n",
    "len(high_dim_control), len(high_dim_treated)"
   ]
  },
  {
   "cell_type": "code",
   "execution_count": 10,
   "metadata": {},
   "outputs": [],
   "source": [
    "# running a regression for the treated group:\n",
    "\n",
    "lr = LinearRegression()\n",
    "X, y = high_dim_treated.iloc[:,2:], high_dim_treated.iloc[:,0]\n",
    "lr.fit(X, y)\n",
    "LinearRegression(copy_X=True, fit_intercept=True, normalize=False)\n",
    "coef_treated_high = lr.coef_\n",
    "intercept_treated_high =lr.intercept_"
   ]
  },
  {
   "cell_type": "code",
   "execution_count": 11,
   "metadata": {},
   "outputs": [],
   "source": [
    "# running a regression for the control group:\n",
    "\n",
    "lr = LinearRegression()\n",
    "X, y = high_dim_control.iloc[:,2:], high_dim_control.iloc[:,0]\n",
    "lr.fit(X, y)\n",
    "LinearRegression(copy_X=True, fit_intercept=True, normalize=False)\n",
    "coef_control_high = lr.coef_\n",
    "intercept_control_high =lr.intercept_"
   ]
  },
  {
   "cell_type": "code",
   "execution_count": 12,
   "metadata": {},
   "outputs": [],
   "source": [
    "# calculating fitted y's for both treated and control groups\n",
    "\n",
    "fitted_y_treated_high = high_dim.iloc[:,2:].transpose().multiply(coef_treated_high, axis =0).sum() + intercept_treated_high\n",
    "fitted_y_control_high = high_dim.iloc[:,2:].transpose().multiply(coef_control_high, axis =0).sum() + intercept_control_high"
   ]
  },
  {
   "cell_type": "code",
   "execution_count": 13,
   "metadata": {},
   "outputs": [],
   "source": [
    "# calculating the difference b.w the treatment and control group\n",
    "\n",
    "ate_high = (fitted_y_treated_high - fitted_y_control_high).mean()\n",
    "# measuring accuracy\n",
    "\n",
    "accuracy_high = real_high - ate_high\n",
    "# stopping clock\n",
    "\n",
    "run_time_high = time.time() - start_time_high"
   ]
  },
  {
   "cell_type": "code",
   "execution_count": 16,
   "metadata": {},
   "outputs": [
    {
     "data": {
      "text/html": [
       "<div>\n",
       "<style scoped>\n",
       "    .dataframe tbody tr th:only-of-type {\n",
       "        vertical-align: middle;\n",
       "    }\n",
       "\n",
       "    .dataframe tbody tr th {\n",
       "        vertical-align: top;\n",
       "    }\n",
       "\n",
       "    .dataframe thead th {\n",
       "        text-align: right;\n",
       "    }\n",
       "</style>\n",
       "<table border=\"1\" class=\"dataframe\">\n",
       "  <thead>\n",
       "    <tr style=\"text-align: right;\">\n",
       "      <th></th>\n",
       "      <th>run_time</th>\n",
       "      <th>ate</th>\n",
       "      <th>accuracy</th>\n",
       "    </tr>\n",
       "  </thead>\n",
       "  <tbody>\n",
       "    <tr>\n",
       "      <th>low</th>\n",
       "      <td>0.160</td>\n",
       "      <td>2.527</td>\n",
       "      <td>-0.027</td>\n",
       "    </tr>\n",
       "    <tr>\n",
       "      <th>high</th>\n",
       "      <td>0.223</td>\n",
       "      <td>-2.960</td>\n",
       "      <td>-0.040</td>\n",
       "    </tr>\n",
       "  </tbody>\n",
       "</table>\n",
       "</div>"
      ],
      "text/plain": [
       "      run_time    ate  accuracy\n",
       "low      0.160  2.527    -0.027\n",
       "high     0.223 -2.960    -0.040"
      ]
     },
     "execution_count": 16,
     "metadata": {},
     "output_type": "execute_result"
    }
   ],
   "source": [
    "# building a df for the results:\n",
    "\n",
    "regression_estimate_low = pd.Series(data = [run_time_low, ate_low, accuracy_low], \n",
    "                                   index = ['run_time','ate','accuracy']).rename('low')\n",
    "regression_estimate_high = pd.Series(data = [run_time_high, ate_high, accuracy_high], \n",
    "                                     index = ['run_time','ate', 'accuracy']).rename('high')\n",
    "results_regression_estimate = pd.DataFrame([regression_estimate_low, regression_estimate_high]).round(3)\n",
    "\n",
    "results_regression_estimate"
   ]
  },
  {
   "cell_type": "code",
   "execution_count": null,
   "metadata": {},
   "outputs": [],
   "source": [
    "#"
   ]
  }
 ],
 "metadata": {
  "kernelspec": {
   "display_name": "Python 3",
   "language": "python",
   "name": "python3"
  },
  "language_info": {
   "codemirror_mode": {
    "name": "ipython",
    "version": 3
   },
   "file_extension": ".py",
   "mimetype": "text/x-python",
   "name": "python",
   "nbconvert_exporter": "python",
   "pygments_lexer": "ipython3",
   "version": "3.7.4"
  }
 },
 "nbformat": 4,
 "nbformat_minor": 4
}

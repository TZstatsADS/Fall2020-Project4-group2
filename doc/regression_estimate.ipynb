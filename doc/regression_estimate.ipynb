{
 "cells": [
  {
   "cell_type": "markdown",
   "metadata": {},
   "source": [
    "# Regression Estimate"
   ]
  },
  {
   "cell_type": "code",
   "execution_count": 2,
   "metadata": {},
   "outputs": [],
   "source": [
    "import pandas as pd\n",
    "import numpy as np\n",
    "import time\n",
    "from sklearn.linear_model import LinearRegression"
   ]
  },
  {
   "cell_type": "code",
   "execution_count": 3,
   "metadata": {},
   "outputs": [
    {
     "data": {
      "text/plain": [
       "(0, 0, (475, 24), (2000, 187))"
      ]
     },
     "execution_count": 3,
     "metadata": {},
     "output_type": "execute_result"
    }
   ],
   "source": [
    "start_time = time.time()\n",
    "\n",
    "# loading data\n",
    "\n",
    "low_dim = pd.read_csv('..\\data\\lowDim_dataset.csv')\n",
    "high_dim = pd.read_csv('..\\data\\highDim_dataset.csv')\n",
    "\n",
    "# inspecting data\n",
    "\n",
    "low_dim.isna().sum().sum(),high_dim.isna().sum().sum(),low_dim.shape, high_dim.shape"
   ]
  },
  {
   "cell_type": "markdown",
   "metadata": {},
   "source": [
    "## Low Dimension"
   ]
  },
  {
   "cell_type": "code",
   "execution_count": 4,
   "metadata": {},
   "outputs": [
    {
     "data": {
      "text/plain": [
       "(363, 112)"
      ]
     },
     "execution_count": 4,
     "metadata": {},
     "output_type": "execute_result"
    }
   ],
   "source": [
    "# deviding the data into treated and control groups\n",
    "\n",
    "low_dim_treated = low_dim[low_dim['A'] == 1]\n",
    "low_dim_treated = low_dim_treated.reset_index(drop = True)\n",
    "\n",
    "low_dim_control = low_dim[low_dim['A'] == 0]\n",
    "low_dim_control = low_dim_control.reset_index(drop = True)\n",
    "\n",
    "# inspecting sizes:\n",
    "\n",
    "len(low_dim_control), len(low_dim_treated)"
   ]
  },
  {
   "cell_type": "code",
   "execution_count": 6,
   "metadata": {},
   "outputs": [],
   "source": [
    "# running a regression for the treated group:\n",
    "\n",
    "lr = LinearRegression()\n",
    "X, y = low_dim_treated.iloc[:,2:], low_dim_treated.iloc[:,0]\n",
    "lr.fit(X, y)\n",
    "LinearRegression(copy_X=True, fit_intercept=True, normalize=False)\n",
    "coef_treated_low = lr.coef_\n",
    "intercept_treated_low =lr.intercept_"
   ]
  },
  {
   "cell_type": "code",
   "execution_count": 7,
   "metadata": {},
   "outputs": [],
   "source": [
    "# running a regression for the control group:\n",
    "\n",
    "lr = LinearRegression()\n",
    "X, y = low_dim_control.iloc[:,2:], low_dim_control.iloc[:,0]\n",
    "lr.fit(X, y)\n",
    "LinearRegression(copy_X=True, fit_intercept=True, normalize=False)\n",
    "coef_control_low = lr.coef_\n",
    "intercept_control_low =lr.intercept_"
   ]
  },
  {
   "cell_type": "code",
   "execution_count": 8,
   "metadata": {},
   "outputs": [],
   "source": [
    "# calculating fitted y's for both treated and control groups\n",
    "\n",
    "fitted_y_treated_low = low_dim.iloc[:,2:].transpose().multiply(coef_treated_low, axis =0).sum() + intercept_treated_low\n",
    "fitted_y_control_low = low_dim.iloc[:,2:].transpose().multiply(coef_control_low, axis =0).sum() + intercept_control_low"
   ]
  },
  {
   "cell_type": "code",
   "execution_count": 9,
   "metadata": {},
   "outputs": [
    {
     "data": {
      "text/plain": [
       "2.5269439835445073"
      ]
     },
     "execution_count": 9,
     "metadata": {},
     "output_type": "execute_result"
    }
   ],
   "source": [
    "# calculating the difference b.w the treatment and control group\n",
    "\n",
    "(fitted_y_treated_low - fitted_y_control_low).mean()"
   ]
  },
  {
   "cell_type": "markdown",
   "metadata": {},
   "source": [
    "## High Dimension"
   ]
  },
  {
   "cell_type": "code",
   "execution_count": 5,
   "metadata": {},
   "outputs": [
    {
     "data": {
      "text/plain": [
       "(1103, 897)"
      ]
     },
     "execution_count": 5,
     "metadata": {},
     "output_type": "execute_result"
    }
   ],
   "source": [
    "# deviding the data into treated and control groups\n",
    "\n",
    "high_dim_treated = high_dim[high_dim['A'] == 1]\n",
    "high_dim_treated = high_dim_treated.reset_index(drop = True)\n",
    "\n",
    "high_dim_control = high_dim[high_dim['A'] == 0]\n",
    "high_dim_control = high_dim_control.reset_index(drop = True)\n",
    "\n",
    "# inspecting sizes:\n",
    "\n",
    "len(high_dim_control), len(high_dim_treated)"
   ]
  },
  {
   "cell_type": "code",
   "execution_count": 12,
   "metadata": {},
   "outputs": [],
   "source": [
    "# running a regression for the treated group:\n",
    "\n",
    "lr = LinearRegression()\n",
    "X, y = high_dim_treated.iloc[:,2:], high_dim_treated.iloc[:,0]\n",
    "lr.fit(X, y)\n",
    "LinearRegression(copy_X=True, fit_intercept=True, normalize=False)\n",
    "coef_treated_high = lr.coef_\n",
    "intercept_treated_high =lr.intercept_"
   ]
  },
  {
   "cell_type": "code",
   "execution_count": 13,
   "metadata": {},
   "outputs": [],
   "source": [
    "# running a regression for the control group:\n",
    "\n",
    "lr = LinearRegression()\n",
    "X, y = high_dim_control.iloc[:,2:], high_dim_control.iloc[:,0]\n",
    "lr.fit(X, y)\n",
    "LinearRegression(copy_X=True, fit_intercept=True, normalize=False)\n",
    "coef_control_high = lr.coef_\n",
    "intercept_control_high =lr.intercept_"
   ]
  },
  {
   "cell_type": "code",
   "execution_count": 14,
   "metadata": {},
   "outputs": [],
   "source": [
    "# calculating fitted y's for both treated and control groups\n",
    "\n",
    "fitted_y_treated_high = high_dim.iloc[:,2:].transpose().multiply(coef_treated_high, axis =0).sum() + intercept_treated_high\n",
    "fitted_y_control_high = high_dim.iloc[:,2:].transpose().multiply(coef_control_high, axis =0).sum() + intercept_control_high"
   ]
  },
  {
   "cell_type": "code",
   "execution_count": 15,
   "metadata": {},
   "outputs": [
    {
     "data": {
      "text/plain": [
       "-2.959779635199301"
      ]
     },
     "execution_count": 15,
     "metadata": {},
     "output_type": "execute_result"
    }
   ],
   "source": [
    "# calculating the difference b.w the treatment and control group\n",
    "\n",
    "(fitted_y_treated_high - fitted_y_control_high).mean()"
   ]
  },
  {
   "cell_type": "code",
   "execution_count": 16,
   "metadata": {},
   "outputs": [
    {
     "name": "stdout",
     "output_type": "stream",
     "text": [
      "run time: 0.6094183921813965 seconds\n"
     ]
    }
   ],
   "source": [
    "print(\"run time: %s seconds\" % (time.time() - start_time))"
   ]
  }
 ],
 "metadata": {
  "kernelspec": {
   "display_name": "Python 3",
   "language": "python",
   "name": "python3"
  },
  "language_info": {
   "codemirror_mode": {
    "name": "ipython",
    "version": 3
   },
   "file_extension": ".py",
   "mimetype": "text/x-python",
   "name": "python",
   "nbconvert_exporter": "python",
   "pygments_lexer": "ipython3",
   "version": "3.8.5"
  }
 },
 "nbformat": 4,
 "nbformat_minor": 4
}

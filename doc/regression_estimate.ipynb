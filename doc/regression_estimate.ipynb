{
 "cells": [
  {
   "cell_type": "markdown",
   "metadata": {},
   "source": [
    "# Regression Estimate"
   ]
  },
  {
   "cell_type": "code",
   "execution_count": 1,
   "metadata": {},
   "outputs": [],
   "source": [
    "import pandas as pd\n",
    "import numpy as np\n",
    "import time\n",
    "from sklearn.linear_model import LinearRegression"
   ]
  },
  {
   "cell_type": "code",
   "execution_count": 2,
   "metadata": {},
   "outputs": [],
   "source": [
    "start_time = time.time()\n",
    "\n",
    "# loading data\n",
    "\n",
    "low_dim = pd.read_csv('lowDim_dataset.csv')\n",
    "high_dim = pd.read_csv('highDim_dataset.csv')"
   ]
  },
  {
   "cell_type": "code",
   "execution_count": 3,
   "metadata": {},
   "outputs": [
    {
     "data": {
      "text/plain": [
       "(0, 0, (475, 24), (2000, 187))"
      ]
     },
     "execution_count": 3,
     "metadata": {},
     "output_type": "execute_result"
    }
   ],
   "source": [
    "# inspecting data\n",
    "\n",
    "low_dim.isna().sum().sum(),high_dim.isna().sum().sum(),low_dim.shape, high_dim.shape"
   ]
  },
  {
   "cell_type": "code",
   "execution_count": 4,
   "metadata": {},
   "outputs": [],
   "source": [
    "# deviding the data into treated and control groups\n",
    "\n",
    "low_dim_treated = low_dim[low_dim['A'] == 1]\n",
    "low_dim_treated = low_dim_treated.reset_index(drop = True)\n",
    "\n",
    "low_dim_control = low_dim[low_dim['A'] == 0]\n",
    "low_dim_control = low_dim_control.reset_index(drop = True)"
   ]
  },
  {
   "cell_type": "code",
   "execution_count": 5,
   "metadata": {},
   "outputs": [
    {
     "data": {
      "text/plain": [
       "(363, 112)"
      ]
     },
     "execution_count": 5,
     "metadata": {},
     "output_type": "execute_result"
    }
   ],
   "source": [
    "# inspecting sizes:\n",
    "\n",
    "len(low_dim_control), len(low_dim_treated)"
   ]
  },
  {
   "cell_type": "code",
   "execution_count": 6,
   "metadata": {},
   "outputs": [],
   "source": [
    "# running a regression for the treated group:\n",
    "\n",
    "lr = LinearRegression()\n",
    "X, y = low_dim_treated.iloc[:,2:], low_dim_treated.iloc[:,0]\n",
    "lr.fit(X, y)\n",
    "LinearRegression(copy_X=True, fit_intercept=True, normalize=False)\n",
    "coef_treated = lr.coef_\n",
    "intercept_treated =lr.intercept_"
   ]
  },
  {
   "cell_type": "code",
   "execution_count": 7,
   "metadata": {},
   "outputs": [],
   "source": [
    "# running a regression for the control group:\n",
    "\n",
    "lr = LinearRegression()\n",
    "X, y = low_dim_control.iloc[:,2:], low_dim_control.iloc[:,0]\n",
    "lr.fit(X, y)\n",
    "LinearRegression(copy_X=True, fit_intercept=True, normalize=False)\n",
    "coef_control = lr.coef_\n",
    "intercept_control =lr.intercept_"
   ]
  },
  {
   "cell_type": "code",
   "execution_count": 8,
   "metadata": {},
   "outputs": [],
   "source": [
    "# calculating fitted y's for both treated and control groups\n",
    "\n",
    "fitted_y_treated = low_dim_treated.iloc[:,2:].transpose().multiply(coef_treated, axis =0).sum() + intercept_treated\n",
    "fitted_y_control = low_dim_control.iloc[:,2:].transpose().multiply(coef_control, axis =0).sum() + intercept_control"
   ]
  },
  {
   "cell_type": "code",
   "execution_count": 9,
   "metadata": {},
   "outputs": [
    {
     "data": {
      "text/plain": [
       "4.994298918968866"
      ]
     },
     "execution_count": 9,
     "metadata": {},
     "output_type": "execute_result"
    }
   ],
   "source": [
    "# calculating the difference b.w the treatment and control group\n",
    "\n",
    "fitted_y_treated.mean() - fitted_y_control.mean()"
   ]
  },
  {
   "cell_type": "code",
   "execution_count": 10,
   "metadata": {},
   "outputs": [
    {
     "name": "stdout",
     "output_type": "stream",
     "text": [
      "run time: 0.3779900074005127 seconds\n"
     ]
    }
   ],
   "source": [
    "print(\"run time: %s seconds\" % (time.time() - start_time))"
   ]
  }
 ],
 "metadata": {
  "kernelspec": {
   "display_name": "Python 3",
   "language": "python",
   "name": "python3"
  },
  "language_info": {
   "codemirror_mode": {
    "name": "ipython",
    "version": 3
   },
   "file_extension": ".py",
   "mimetype": "text/x-python",
   "name": "python",
   "nbconvert_exporter": "python",
   "pygments_lexer": "ipython3",
   "version": "3.7.4"
  }
 },
 "nbformat": 4,
 "nbformat_minor": 4
}
